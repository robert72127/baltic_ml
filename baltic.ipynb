{
 "cells": [
  {
   "cell_type": "markdown",
   "metadata": {
    "colab_type": "text",
    "id": "view-in-github"
   },
   "source": [
    "<a href=\"https://colab.research.google.com/github/wenjie-hoo/baltic_ml/blob/main/baltic.ipynb\" target=\"_parent\"><img src=\"https://colab.research.google.com/assets/colab-badge.svg\" alt=\"Open In Colab\"/></a>"
   ]
  },
  {
   "cell_type": "code",
   "execution_count": null,
   "metadata": {
    "id": "raVLw7M_38On"
   },
   "outputs": [],
   "source": [
    "import matplotlib as mpl\n",
    "import matplotlib.pyplot as plt\n",
    "import numpy as np\n",
    "import os\n",
    "import pandas as pd\n",
    "from zipfile import ZipFile\n",
    "from functools import reduce\n",
    "\n",
    "import seaborn as sns\n",
    "from sklearn.model_selection import train_test_split\n",
    "from sklearn.linear_model import LinearRegression\n",
    "from sklearn.ensemble import RandomForestRegressor\n",
    "from sklearn.neural_network import MLPRegressor\n",
    "from sklearn.preprocessing import StandardScaler\n",
    "from sklearn.metrics import mean_squared_error\n"
   ]
  },
  {
   "cell_type": "code",
   "execution_count": null,
   "metadata": {
    "colab": {
     "base_uri": "https://localhost:8080/"
    },
    "id": "TKokeCJzrxew",
    "outputId": "c90d084d-3229-4ce3-d977-5a8e74c9ea51"
   },
   "outputs": [],
   "source": [
    "!pip install -q gdown httpimport\n",
    "!gdown 'https://github.com/wenjie-hoo/baltic_ml/raw/main/2022.11.07-merged-single-observation.zip'"
   ]
  },
  {
   "cell_type": "code",
   "execution_count": null,
   "metadata": {
    "colab": {
     "base_uri": "https://localhost:8080/"
    },
    "id": "a4UXfcU7rv13",
    "outputId": "727942ff-4061-4ae8-da74-bf517ff74de1"
   },
   "outputs": [],
   "source": [
    "zip_file = ZipFile('./2022.11.07-merged-single-observation.zip')\n",
    "dfs = {text_file.filename: pd.read_csv(zip_file.open(text_file.filename))\n",
    "       for text_file in zip_file.infolist()\n",
    "       if text_file.filename.endswith('.csv') and not text_file.filename[37:].startswith('.')}\n",
    "\n",
    "df_list=[]\n",
    "for df in dfs.values():\n",
    "       df['DATE'] = pd.to_datetime(df['DATE'],dayfirst = True)\n",
    "       df_list.append(df)\n",
    "\n",
    "df = reduce(lambda left,right: pd.merge(left.drop_duplicates(subset=['DATE','DEPTH']),right.drop_duplicates(subset=['DATE','DEPTH']),on=['DATE','DEPTH'],how='outer'), df_list)\n",
    "# df.to_csv('xxxxx.csv')\n",
    "df.head"
   ]
  },
  {
   "cell_type": "code",
   "execution_count": null,
   "metadata": {
    "colab": {
     "base_uri": "https://localhost:8080/",
     "height": 287
    },
    "id": "ckBO-gAI2goB",
    "outputId": "f0a26623-92d2-4d69-8069-25568f17041c"
   },
   "outputs": [],
   "source": [
    "# df.describe()\n",
    "df.groupby('DATE').mean()['TP'].plot()"
   ]
  },
  {
   "cell_type": "code",
   "execution_count": null,
   "metadata": {
    "colab": {
     "base_uri": "https://localhost:8080/",
     "height": 893
    },
    "id": "wOyuYJydcvaY",
    "outputId": "984b59a9-62b6-4907-b415-6bbb6c87491b"
   },
   "outputs": [],
   "source": [
    "fig = plt.figure(figsize=(15,15))\n",
    "sns.heatmap(df.corr(),vmax=1, annot=True, linewidths=0.5, cbar=False, cmap='YlGnBu',annot_kws={'fontsize':18})\n",
    "plt.xticks(fontsize=20)\n",
    "plt.yticks(fontsize=20)\n",
    "plt.title('xx',fontsize=20)\n",
    "plt.show()"
   ]
  },
  {
   "cell_type": "code",
   "execution_count": null,
   "metadata": {
    "colab": {
     "base_uri": "https://localhost:8080/",
     "height": 280
    },
    "id": "qPrF8EshtHqU",
    "outputId": "1d23522c-70bd-4537-f618-64fea9279212"
   },
   "outputs": [],
   "source": [
    "plt.figure(figsize=(12,8))\n",
    "plt.subplot(2,2,1)\n",
    "plt.scatter(x=df['PO4'],y=df['TP'])\n",
    "plt.title('TP & PO4')"
   ]
  },
  {
   "cell_type": "code",
   "execution_count": null,
   "metadata": {
    "colab": {
     "base_uri": "https://localhost:8080/",
     "height": 893
    },
    "id": "CJkO8FfM_Vu3",
    "outputId": "8550f241-9979-4634-fa26-51f467b9223e"
   },
   "outputs": [],
   "source": [
    "df.dropna(inplace=True)\n",
    "\n",
    "fig = plt.figure(figsize=(15,15))\n",
    "sns.heatmap(df.corr(),vmax=1, annot=True, linewidths=0.5, cbar=False, cmap='YlGnBu',annot_kws={'fontsize':18})\n",
    "plt.xticks(fontsize=20)\n",
    "plt.yticks(fontsize=20)\n",
    "plt.title('xx',fontsize=20)\n",
    "plt.show()"
   ]
  },
  {
   "cell_type": "code",
   "execution_count": null,
   "metadata": {
    "colab": {
     "base_uri": "https://localhost:8080/",
     "height": 280
    },
    "id": "Mi4Z4E_y_71s",
    "outputId": "d68dc866-6bff-43fb-e77f-aa2f5fdcb1e2",
    "scrolled": true
   },
   "outputs": [],
   "source": [
    "plt.figure(figsize=(12,8))\n",
    "plt.subplot(2,2,1)\n",
    "plt.scatter(x=df['PO4'],y=df['TP'])\n",
    "plt.title('TP & PO4')"
   ]
  },
  {
   "cell_type": "code",
   "execution_count": null,
   "metadata": {
    "id": "Kyn9ObJJ_aIL"
   },
   "outputs": [],
   "source": [
    "df['TP'] = df['TP']\n",
    "X = df.drop(['DATE'],axis=1)\n",
    "y = df['PO4']\n",
    "x_train, x_test, y_train, y_test = train_test_split(X, y, test_size=0.2, random_state=42)"
   ]
  },
  {
   "cell_type": "code",
   "execution_count": null,
   "metadata": {
    "id": "UUga50N2_dwA"
   },
   "outputs": [],
   "source": [
    "scaler = StandardScaler(with_mean = True, with_std = True)\n",
    "scaler.fit(x_train)\n",
    "norm_X = scaler.transform(x_train)\n",
    "norm_X_test = scaler.transform(x_test)"
   ]
  },
  {
   "cell_type": "code",
   "execution_count": null,
   "metadata": {
    "colab": {
     "base_uri": "https://localhost:8080/"
    },
    "id": "I27TEnNIVm_Z",
    "outputId": "b0f4ede6-40e2-4b7f-efe5-1123e059b8b8"
   },
   "outputs": [],
   "source": [
    "# linear regression\n",
    "lg = LinearRegression()\n",
    "lg.fit(norm_X, y_train)\n",
    "y_pred = lg.predict(norm_X_test)\n",
    "print(mean_squared_error(y_test,y_pred))"
   ]
  },
  {
   "cell_type": "code",
   "execution_count": null,
   "metadata": {
    "colab": {
     "base_uri": "https://localhost:8080/"
    },
    "id": "J1PcHSMiVm9w",
    "outputId": "d7355470-6b77-4dce-9e21-c5abd697a786"
   },
   "outputs": [],
   "source": [
    "# neural netword\n",
    "mlp = MLPRegressor(activation='logistic', hidden_layer_sizes=(2,2), solver='sgd', max_iter=3000)\n",
    "mlp.fit(norm_X,y_train)\n",
    "y_pred = mlp.predict(norm_X_test)\n",
    "print(mean_squared_error(y_test, y_pred))"
   ]
  },
  {
   "cell_type": "code",
   "execution_count": null,
   "metadata": {
    "colab": {
     "base_uri": "https://localhost:8080/"
    },
    "id": "A9L6mkK3Vm7j",
    "outputId": "dce8ec51-7451-46d6-aa22-d4d8d50d7079"
   },
   "outputs": [],
   "source": [
    "# random forest \n",
    "rfr = RandomForestRegressor(random_state=0)\n",
    "rfr.fit(norm_X, y_train)\n",
    "y_pred = rfr.predict(norm_X_test)\n",
    "print(mean_squared_error(y_test, y_pred))"
   ]
  },
  {
   "cell_type": "code",
   "execution_count": null,
   "metadata": {
    "colab": {
     "base_uri": "https://localhost:8080/",
     "height": 623
    },
    "id": "dP7vErvxVm5N",
    "outputId": "c2e4d616-e220-4839-a26d-ce9a7b0535b6"
   },
   "outputs": [],
   "source": [
    "feat_lebels = x_train.columns[0:]\n",
    "importances  = rfr.feature_importances_\n",
    "indices = np.argsort(importances)[::-1]\n",
    "index_list = []\n",
    "value_list = []\n",
    "for i,j in zip(range(x_train.shape[1]-1),indices):\n",
    "    index_list.append(feat_lebels[j])\n",
    "    value_list.append(importances[j])\n",
    "    print(i+1, feat_lebels[j], importances[j])\n",
    "\n",
    "plt.figure(figsize=(10,6))\n",
    "plt.barh(index_list[::-1],value_list[::-1])\n",
    "plt.yticks(fontsize = 12)\n",
    "plt.title('feature',fontsize = 14)\n",
    "plt.show()\n"
   ]
  },
  {
   "cell_type": "code",
   "execution_count": null,
   "metadata": {
    "colab": {
     "base_uri": "https://localhost:8080/"
    },
    "id": "Vzv8VxwYVmy5",
    "outputId": "2a692a94-eb49-4bf7-a8f4-78fdfdedf08e"
   },
   "outputs": [],
   "source": [
    "from sklearn.model_selection import GridSearchCV\n",
    "\n",
    "param_grid = {\n",
    "    'n_estimators':[150,200,300],\n",
    "    'min_samples_split':[2,3,5],\n",
    "    'min_samples_leaf':[1,2,3]\n",
    "}\n",
    "grid_seach_rf= GridSearchCV(estimator=RandomForestRegressor(random_state=0),param_grid=param_grid, scoring='neg_mean_squared_error', cv = 5)\n",
    "grid_seach_rf.fit(norm_X, y_train)\n",
    "print(grid_seach_rf.best_params_)\n"
   ]
  },
  {
   "cell_type": "code",
   "execution_count": null,
   "metadata": {
    "colab": {
     "base_uri": "https://localhost:8080/"
    },
    "id": "UyBk8gqQVmpS",
    "outputId": "f185f68d-ae07-40fb-b01c-8ca9cf182db8"
   },
   "outputs": [],
   "source": [
    "rfr_ = RandomForestRegressor(n_estimators=150, min_samples_leaf=1, min_samples_split=2, random_state=0)\n",
    "rfr_.fit(norm_X, y_train)\n",
    "y_pred = rfr_.predict(norm_X_test)\n",
    "print(mean_squared_error(y_test, y_pred))"
   ]
  },
  {
   "cell_type": "code",
   "execution_count": null,
   "metadata": {
    "colab": {
     "base_uri": "https://localhost:8080/"
    },
    "id": "q5c2FuY6WQBo",
    "outputId": "6ebbb7e7-a68a-4dec-a212-6d3a54350e97"
   },
   "outputs": [],
   "source": [
    "print(y_pred.size)\n",
    "print(y_test.size)"
   ]
  },
  {
   "cell_type": "code",
   "execution_count": null,
   "metadata": {
    "colab": {
     "base_uri": "https://localhost:8080/",
     "height": 394
    },
    "id": "JDd7Ev7DY0zX",
    "outputId": "d7d9bfb5-3e9a-444d-e9b5-64065b68970a"
   },
   "outputs": [],
   "source": [
    "pd.DataFrame(y_pred[:10],y_test[:10])"
   ]
  },
  {
   "cell_type": "markdown",
   "metadata": {},
   "source": [
    "## SOME INFO ON BALTIC SEA AND WHAT TO LOOK AT"
   ]
  },
  {
   "cell_type": "markdown",
   "metadata": {},
   "source": [
    "Dissolved oxygen  OXY\n",
    "\n",
    "Phosphate PO4\n",
    "\n",
    "Total phosphorus TP\n",
    "\n",
    "Nitrite NO2\n",
    "\n",
    "Nitrate NO3\n",
    "\n",
    "Ammonia NH4\n",
    "\n",
    "Total nitrogen TN\n",
    "\n",
    "Silicate SIO2\n",
    "\n",
    "Chlorophyll a CHLORA\n",
    "\n",
    "Total Alkalinity TA\n",
    "\n",
    "Dissolved Inorganic Carbon (DIC) PH\n",
    "\n",
    "Trace elements (Cd, Co, Cu, Fe,  Ni,  Pb, Zn) ( pierwiastki sladowe ) (CHYBA niewazne)\n",
    "Elements such as iron or zinc, are critical to marine life and play a key role in regulating the global carbon cycle\n",
    "\n",
    "SECCHI -\n",
    "used to measure water transparency or turbidity in bodies of water. The disc is mounted on a pole or line, and lowered slowly down in the water\n",
    "\n",
    "\n",
    "Salinity: The amount (mass or quantity of matter) of salt per amount (volume or mass) of a body of water.\n",
    "CTDSAL\n",
    "\n",
    "Temperature\n",
    "CTDTMP  (i think?)"
   ]
  },
  {
   "cell_type": "code",
   "execution_count": null,
   "metadata": {},
   "outputs": [],
   "source": [
    "## Some helpful filters\n",
    "\n",
    "def fix_date_formatting(df):\n",
    "    df['DATE'] = pd.to_datetime(df.DATE, infer_datetime_format=True)\n",
    "    return df\n",
    "\n",
    "def filter_by_months(df, months):\n",
    "    return df[df['DATE'].dt.month == any(months)]\n",
    "\n",
    "def group_by_year(df, par):\n",
    "    df =  df.groupby(df['DATE'].dt.year)[par].mean()\n",
    "    return pd.DataFrame({\"DATE\":df.index, par:df.values})\n",
    "    \n",
    "def filter_by_depth(df, depth):\n",
    "    df = df.loc[df['DEPTH'] == depth]\n",
    "    return df"
   ]
  },
  {
   "cell_type": "code",
   "execution_count": null,
   "metadata": {},
   "outputs": [],
   "source": [
    "BASE = './2022.11.07-merged-single-observation/'\n",
    "\n",
    "ctdtmp = pd.read_csv(BASE + 'CTDTMP.csv')\n",
    "ctdtmp = fix_date_formatting(ctdtmp)\n",
    "\n",
    "ctdsal = pd.read_csv(BASE + 'CTDSAL.csv')\n",
    "ctdsal = fix_date_formatting(ctdsal)\n",
    "\n",
    "oxygen = pd.read_csv(BASE + 'OXY.csv')\n",
    "oxygen = fix_date_formatting(oxygen)\n",
    "\n",
    "tn = pd.read_csv(BASE + 'TN.csv')\n",
    "tn = fix_date_formatting(tn)\n",
    "\n"
   ]
  },
  {
   "cell_type": "markdown",
   "metadata": {},
   "source": [
    "## Some theory water exchange\n",
    "\n",
    "Baltic sea is  not very salty naturally 7-8 promile, mediterranean sea has 39 for comparaison. And it's saltiness levels are dependent on water exchange with global ocean by north sea. which in the case of the Baltic Sea is difficult due to narrow and tight connections (Danish straits)\n",
    "\n",
    "water exchange is super important becouse water from north sea is much saltier, colder and better oxygenated. Those exchanged are happening less and less often. Around 5-7 infusions per 10 years in 70-80's. While only two were observed sice 2000's. Furthermore every day sweet waters from more than 200 rivers are injected into the baltic sea. Which combined can turn baltic sea into freshwater tank.\n",
    "\n",
    "Continuing on water exchange. Less often they occur, higher the temperature should lead to higher mean temperature which is one of things that promotes the growth of microorganisms and algae\n"
   ]
  },
  {
   "cell_type": "code",
   "execution_count": null,
   "metadata": {},
   "outputs": [],
   "source": [
    "ctdtmp['DEPTH'].unique()"
   ]
  },
  {
   "cell_type": "code",
   "execution_count": null,
   "metadata": {},
   "outputs": [],
   "source": [
    "##TODO plot temperature to check if true best if using mean by season\n",
    "#plot_depth(salinity,'CTDSAL', [4,5,6], 100)\n",
    "df1 = filter_by_depth(ctdtmp, 100)\n",
    "df1 = group_by_year(df1, 'CTDTMP')\n",
    "\n",
    "df2 = filter_by_depth(ctdtmp, 500)\n",
    "df2 = group_by_year(df2, 'CTDTMP')\n",
    "\n",
    "df3 = filter_by_depth(ctdtmp, 1000)\n",
    "df3 = group_by_year(df3, 'CTDTMP')\n",
    "\n",
    "df4 = filter_by_depth(ctdtmp, 2000)\n",
    "df4 = group_by_year(df4, 'CTDTMP')\n",
    "\n",
    "#df = filter_by_months(df, [12])\n",
    "\n",
    "#plt.ylim(5, 14)\n",
    "fig, axes = plt.subplots(nrows=2, ncols=2, sharex=True, sharey=True, figsize=(10,6))\n",
    "ax1, ax2, ax3, ax4 = axes.flatten()\n",
    "sns.scatterplot(data=df1, x=\"DATE\", y='CTDTMP', ax = ax1)\n",
    "sns.scatterplot(data=df2, x=\"DATE\", y='CTDTMP', ax = ax2)\n",
    "sns.scatterplot(data=df3, x=\"DATE\", y='CTDTMP', ax = ax3)\n",
    "sns.scatterplot(data=df4, x=\"DATE\", y='CTDTMP', ax = ax4)\n",
    "#plt.ylim(5,15)\n",
    "plt.show()\n"
   ]
  },
  {
   "cell_type": "markdown",
   "metadata": {},
   "source": [
    "## Industrial and agricultural activities\n",
    "\n",
    "Industrial and agricultural activities aruond baltic sea \n",
    "causes the associated nutrient loads to end up in marine waters. Intensive agricultural production requires the use of fertilizers, in addition, farmers produce tons of organic waste, meat plants where thousands of pigs are raised using the mulchless method produce hectoliters of manure with a high content of minerals, especially..\n",
    "### nitrates!\n",
    "\n",
    "\n"
   ]
  },
  {
   "cell_type": "code",
   "execution_count": null,
   "metadata": {},
   "outputs": [],
   "source": [
    "# TODO plot and analyse nitrates\n",
    "df1 = filter_by_depth(tn, 100)\n",
    "df1 = group_by_year(df1, 'TN')\n",
    "\n",
    "df2 = filter_by_depth(tn, 500)\n",
    "df2 = group_by_year(df2, 'TN')\n",
    "\n",
    "df3 = filter_by_depth(tn, 1000)\n",
    "df3 = group_by_year(df3, 'TN')\n",
    "\n",
    "df4 = filter_by_depth(tn, 2000)\n",
    "df4 = group_by_year(df4, 'TN')\n",
    "\n",
    "#df = filter_by_months(df, [12])\n",
    "\n",
    "#plt.ylim(5, 14)\n",
    "fig, axes = plt.subplots(nrows=2, ncols=2, sharex=True, sharey=True, figsize=(10,6))\n",
    "ax1, ax2, ax3, ax4 = axes.flatten()\n",
    "sns.scatterplot(data=df1, x=\"DATE\", y='TN', ax = ax1)\n",
    "sns.scatterplot(data=df2, x=\"DATE\", y='TN', ax = ax2)\n",
    "sns.scatterplot(data=df3, x=\"DATE\", y='TN', ax = ax3)\n",
    "sns.scatterplot(data=df4, x=\"DATE\", y='TN', ax = ax4)\n",
    "#plt.ylim(5,15)\n",
    "plt.show()"
   ]
  },
  {
   "cell_type": "markdown",
   "metadata": {},
   "source": [
    "leading to overfertilization and algae blooms.\n",
    "After war farmers began to use heavy laods of fertilizers causing in better growth of plants. No one was predicting that huge amounts of fertilizers will seep into the groundwater from there to the rivers and then to the sea.\n",
    "\n",
    "And because as we said previously, baltic is badly communcated with global ocean it cleans up slowly\n",
    "\n",
    "Causes of that are heavy growth of algae and cyanobacteria. \n",
    "\n",
    "The worst situation is from July to September, when cyanobateria called cyanobacteria bloom, poisoning the fish and cutting off the light to plants growing on the bottom."
   ]
  },
  {
   "cell_type": "code",
   "execution_count": null,
   "metadata": {},
   "outputs": [],
   "source": [
    "## TODO plot chlora levels, plot disk, visiblity etc."
   ]
  },
  {
   "cell_type": "markdown",
   "metadata": {},
   "source": [
    "## OXYGEN\n",
    "\n",
    "### Continuing on problems we explained \n",
    "\n",
    "(in general)  Dissolved oxygen comes from air and partialy from photosynthesis \n",
    "(this is a general theory because the one in the baltic, as has already been said, should also be injected from the northern sea)\n",
    "\n",
    "Increased eutrophication and climate change as a result of human economic activities contribute to the formation of dead zones. Where \n",
    "### Oxygen\n",
    "is lacking encapsulated phosphorus is released from bottom sediments and further increases the concentration of nutrients"
   ]
  },
  {
   "cell_type": "code",
   "execution_count": null,
   "metadata": {},
   "outputs": [],
   "source": [
    "## plot oxygen, plot phoshorus levels and micronutrients\n",
    "# TODO plot and analyse nitrates\n",
    "df1 = filter_by_depth(oxygen, 100)\n",
    "df1 = group_by_year(df1, 'OXY')\n",
    "\n",
    "df2 = filter_by_depth(oxygen, 1000)\n",
    "df2 = group_by_year(df2, 'OXY')\n",
    "\n",
    "df3 = filter_by_depth(oxygen, 1500)\n",
    "df3 = group_by_year(df3, 'OXY')\n",
    "\n",
    "df4 = filter_by_depth(oxygen, 2000)\n",
    "df4 = group_by_year(df4, 'OXY')\n",
    "\n",
    "#df = filter_by_months(df, [12])\n",
    "\n",
    "#plt.ylim(5, 14)\n",
    "fig, axes = plt.subplots(nrows=2, ncols=2, sharex=True, sharey=True, figsize=(10,6))\n",
    "ax1, ax2, ax3, ax4 = axes.flatten()\n",
    "sns.scatterplot(data=df1, x=\"DATE\", y='OXY', ax = ax1)\n",
    "sns.scatterplot(data=df2, x=\"DATE\", y='OXY', ax = ax2)\n",
    "sns.scatterplot(data=df3, x=\"DATE\", y='OXY', ax = ax3)\n",
    "sns.scatterplot(data=df4, x=\"DATE\", y='OXY', ax = ax4)\n",
    "#plt.ylim(5,15)\n",
    "plt.show()"
   ]
  },
  {
   "cell_type": "markdown",
   "metadata": {},
   "source": [
    "As their amount grow and the water heats up, the algae develops faster and the water blooms more intensively.\n",
    "\n",
    "### Further info on chlora and oxygen\n",
    "\n",
    "Oxygen is used to decompose organic matter that settles to the bottom. Lacking oxygen which should be delivered by north sea there is no regeneration process. \n",
    "\n",
    "Oxygen is also essential for marine organisms. At least 6 mg/l dissolved oxygen is needed for life. On the surface of the open Baltic Sea it is about 11 mg/l, but it is worse at the bottom, where hypoxia is recorded as low as 2 mg/l."
   ]
  },
  {
   "cell_type": "code",
   "execution_count": null,
   "metadata": {},
   "outputs": [],
   "source": [
    "## TODO Check oxygen lelvels by depth"
   ]
  },
  {
   "cell_type": "markdown",
   "metadata": {},
   "source": [
    "Degradation began at the beginning of the 20th century, even a hundred years ago there were zones with reduced oxygen content, but in the last century they appeared 12 times more.\n",
    "\n",
    "furthermore \n",
    "### phytoplankton\n",
    "\n",
    "whose development is fostered by the above-mentioned agricultural processes leads to the formation of large amounts of plant debris falling to the bottom there itself feeding microorganisms that take oxygen away from fish and other animals. When the resources are used up, anaerobic bacteria appear, causing rotting processes and emitting poisonous hydrogen sulfide, which turns the water at the bottom into stinking mud.\n"
   ]
  },
  {
   "cell_type": "markdown",
   "metadata": {},
   "source": [
    "## Some general rants i found, could be good idea for provocating tittle of presentation or something\n",
    "\n",
    "### Are there any chances for recovery?\n",
    "\n",
    "Not likely. Although now farmers use 10 times less fertilizers than centuries ago, even if they stopped using them completely, it would not help, because the current fertilizers will continue to decompose for the next 30-40 years. The only hope is inflows from the North Sea, which, as we have already said, are becoming increasingly rare.\n",
    "\n",
    "Side note \n",
    "Another problem you hear about are the tons of sunken munitions and chemical weapons left over from the 2nd Swastika War (about 50,000 tons) including sulfur mustard. Fortunately, they are in the form of a very poorly water-soluble thick slurry, so left alone they do not pose much of a threat.\n",
    "\n",
    "##### some references ( which are citing other references :)\n",
    "https://www.teraz-srodowisko.pl/aktualnosci/Baltyk-eutrofizacja-morski-ekosystem-rolnictwo-scieki-11653.html\n",
    "https://www.newsweek.pl/zdrowie-i-nauka/nauka/morze-baltyckie-zmienia-sie-w-zielone-pelne-szlamu-bajoro/6fews3b\n",
    "https://ekoagora.pl/wp-content/uploads/2021/05/PL-APC-40-3.pdf"
   ]
  },
  {
   "cell_type": "code",
   "execution_count": null,
   "metadata": {},
   "outputs": [],
   "source": []
  }
 ],
 "metadata": {
  "colab": {
   "authorship_tag": "ABX9TyOpQGitflqIJpAIhnc0axYT",
   "include_colab_link": true,
   "provenance": []
  },
  "kernelspec": {
   "display_name": "ml",
   "language": "python",
   "name": "python3"
  },
  "language_info": {
   "codemirror_mode": {
    "name": "ipython",
    "version": 3
   },
   "file_extension": ".py",
   "mimetype": "text/x-python",
   "name": "python",
   "nbconvert_exporter": "python",
   "pygments_lexer": "ipython3",
   "version": "3.8.13"
  },
  "vscode": {
   "interpreter": {
    "hash": "5dafb13e4b6f58b857a75d76bdb469c05d137ecb565f1b307667c72b2cf0b5b5"
   }
  }
 },
 "nbformat": 4,
 "nbformat_minor": 1
}
