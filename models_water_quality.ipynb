{
 "cells": [
  {
   "cell_type": "markdown",
   "id": "71ac043c",
   "metadata": {},
   "source": [
    "### Created simple parameter : 0.4*OXY + 0.3*SECCHI + 0.3*CHLORA measuring water quality and tried predicting it on models provided at models.ipynb with some small modifications, using elements from fertilizers and silicate as X\n",
    "### works ok mostly based on silicates,  but other matters too r2_score better at greater depths"
   ]
  },
  {
   "cell_type": "code",
   "execution_count": 23,
   "id": "fc79c592",
   "metadata": {},
   "outputs": [],
   "source": [
    "import matplotlib as mpl\n",
    "import matplotlib.pyplot as plt\n",
    "import numpy as np\n",
    "import os\n",
    "import pandas as pd\n",
    "from zipfile import ZipFile\n",
    "from functools import reduce\n",
    "\n",
    "import seaborn as sns\n",
    "\n",
    "from sklearn.utils.validation import column_or_1d\n",
    "from sklearn.model_selection import train_test_split\n",
    "from sklearn.linear_model import LinearRegression\n",
    "from sklearn.ensemble import RandomForestRegressor\n",
    "from sklearn.ensemble import GradientBoostingRegressor\n",
    "from sklearn.neural_network import MLPRegressor\n",
    "from sklearn.preprocessing import StandardScaler\n",
    "from sklearn.metrics import mean_squared_error\n",
    "from sklearn.metrics import mean_absolute_error\n",
    "from sklearn.metrics import r2_score\n",
    "from pandas.plotting import scatter_matrix"
   ]
  },
  {
   "cell_type": "code",
   "execution_count": null,
   "id": "46aefea3",
   "metadata": {},
   "outputs": [],
   "source": [
    "#default paths to files generated with data_splitting\n",
    "DATA_BASE = '2022.11.07-merged-single-observation/'\n",
    "PATHS = ['100', '1000', '1500','2000', '2500', 'average', 'deep', 'standard']\n",
    "DATA_FILE = '/CLEANED_MERGED_DATA.csv'\n",
    "DATA_PATH = DATA_BASE + PATHS[6] + DATA_FILE"
   ]
  },
  {
   "cell_type": "code",
   "execution_count": 2,
   "id": "843ba534",
   "metadata": {},
   "outputs": [],
   "source": [
    "# load data to data frame\n",
    "zip_file = ZipFile('./2022.11.07-merged-single-observation.zip')\n",
    "dfs = {text_file.filename: pd.read_csv(zip_file.open(text_file.filename))\n",
    "       for text_file in zip_file.infolist()\n",
    "       if text_file.filename.endswith('.csv') and not text_file.filename[37:].startswith('.')}\n",
    "\n",
    "df_list=[]\n",
    "for df in dfs.values():\n",
    "       df['DATE'] = pd.to_datetime(df['DATE'],dayfirst = True)\n",
    "       df_list.append(df)\n",
    "\n",
    "df = reduce(lambda left,right: pd.merge(left.drop_duplicates(subset=['DATE','DEPTH']),right.drop_duplicates(subset=['DATE','DEPTH']),on=['DATE','DEPTH'],how='outer'), df_list)\n",
    "# df.to_csv('xxxxx.csv')"
   ]
  },
  {
   "cell_type": "code",
   "execution_count": null,
   "id": "3901ba3a",
   "metadata": {},
   "outputs": [],
   "source": [
    "#DATAPATH is path to your file\n",
    "df = pd.read_csv(DATA_PATH,index_col=False)"
   ]
  },
  {
   "cell_type": "code",
   "execution_count": 10,
   "id": "7b557251",
   "metadata": {},
   "outputs": [],
   "source": [
    "#drop date and normalize rest of columns\n",
    "# df = df.drop(['DATE'], axis=1)\n",
    "df.dropna(inplace=True)\n",
    "cols = list(set(df.columns))\n",
    "df[cols] -= df[cols].min()\n",
    "df[cols] /= df[cols].max()"
   ]
  },
  {
   "cell_type": "code",
   "execution_count": 11,
   "id": "09c85cb7",
   "metadata": {},
   "outputs": [
    {
     "name": "stderr",
     "output_type": "stream",
     "text": [
      "/var/folders/zf/z_5ht60d3n7gfsmz14cjq6fc0000gn/T/ipykernel_22293/2767477533.py:10: DataConversionWarning: A column-vector y was passed when a 1d array was expected. Please change the shape of y to (n_samples, ), for example using ravel().\n",
      "  y = column_or_1d(y, warn=True)\n"
     ]
    }
   ],
   "source": [
    "# quality is linear combitnation of few other parameters\n",
    "# we used elements occuring in fertilizers and SIO2 (silicate) which comes from rivers as X\n",
    "\n",
    "X_cols = ['TP', 'TN', 'NO3','NO2','PO4', 'NH4', 'SIO2']\n",
    "df['quality'] = 0.4*df['OXY'] + 0.3*df['SECCHI'] + 0.3*df['CHLORA']\n",
    "y_col = ['quality']\n",
    "\n",
    "X = df[X_cols]\n",
    "y = df[y_col]\n",
    "y = column_or_1d(y, warn=True)\n",
    "\n",
    "x_train, x_test, y_train, y_test = train_test_split(X, y, test_size=0.3, random_state=42)"
   ]
  },
  {
   "cell_type": "code",
   "execution_count": 12,
   "id": "7640eb63",
   "metadata": {},
   "outputs": [],
   "source": [
    "def mean_absolute_percentage_error(y_true, y_pred):\n",
    "    y_true, y_pred = np.array(y_true), np.array(y_pred)\n",
    "    return np.mean(np.abs((y_true - y_pred) / (y_true  ) ) ) * 100"
   ]
  },
  {
   "cell_type": "code",
   "execution_count": 13,
   "id": "24ba1380",
   "metadata": {},
   "outputs": [
    {
     "name": "stdout",
     "output_type": "stream",
     "text": [
      "0.00656644236649508\n",
      "0.06166281066781261\n",
      "18.173246137552667\n"
     ]
    }
   ],
   "source": [
    "# linear regression\n",
    "lg = LinearRegression()\n",
    "lg.fit(x_train, y_train)\n",
    "y_pred = lg.predict(x_test)\n",
    "print(mean_squared_error(y_test,y_pred))\n",
    "print(mean_absolute_error(y_test,y_pred))\n",
    "print(mean_absolute_percentage_error(y_test, y_pred))"
   ]
  },
  {
   "cell_type": "code",
   "execution_count": 14,
   "id": "8aac53b9",
   "metadata": {},
   "outputs": [
    {
     "name": "stdout",
     "output_type": "stream",
     "text": [
      "0.00417523472369714\n",
      "0.046395171221752844\n",
      "12.205037292756193\n"
     ]
    }
   ],
   "source": [
    "# Gradient boosting regression\n",
    "bg = GradientBoostingRegressor()\n",
    "bg.fit(x_train, y_train)\n",
    "y_pred = bg.predict(x_test)\n",
    "print(mean_squared_error(y_test, y_pred))\n",
    "print(mean_absolute_error(y_test,y_pred))\n",
    "print(mean_absolute_percentage_error(y_test, y_pred))"
   ]
  },
  {
   "cell_type": "code",
   "execution_count": 15,
   "id": "4952631d",
   "metadata": {},
   "outputs": [
    {
     "name": "stdout",
     "output_type": "stream",
     "text": [
      "0.017212758968286584\n",
      "0.10071379703957421\n",
      "36.67177891510083\n"
     ]
    }
   ],
   "source": [
    "# neural network\n",
    "mlp = MLPRegressor(activation='logistic', hidden_layer_sizes=(2,2), solver='sgd', max_iter=3000)\n",
    "mlp.fit(x_train,y_train)\n",
    "y_pred = mlp.predict(x_test)\n",
    "print(mean_squared_error(y_test, y_pred))\n",
    "print(mean_absolute_error(y_test,y_pred))\n",
    "print(mean_absolute_percentage_error(y_test, y_pred))"
   ]
  },
  {
   "cell_type": "code",
   "execution_count": 16,
   "id": "8c19b310",
   "metadata": {},
   "outputs": [
    {
     "name": "stdout",
     "output_type": "stream",
     "text": [
      "0.0038248173418831744\n",
      "0.0458705816865014\n",
      "12.204208572842228\n"
     ]
    }
   ],
   "source": [
    "# random forest \n",
    "rfr = RandomForestRegressor(random_state=0)\n",
    "rfr.fit(x_train, y_train)\n",
    "y_pred = rfr.predict(x_test)\n",
    "print(mean_squared_error(y_test, y_pred))\n",
    "print(mean_absolute_error(y_test,y_pred))\n",
    "print(mean_absolute_percentage_error(y_test, y_pred))"
   ]
  },
  {
   "cell_type": "code",
   "execution_count": 17,
   "id": "84579946",
   "metadata": {},
   "outputs": [
    {
     "name": "stdout",
     "output_type": "stream",
     "text": [
      "1 SIO2 0.5121398405276161\n",
      "2 NH4 0.10093924527322688\n",
      "3 NO2 0.091692327838797\n",
      "4 PO4 0.09070364588445426\n",
      "5 NO3 0.08589187744669458\n",
      "6 TP 0.07034864181200463\n"
     ]
    },
    {
     "data": {
      "image/png": "[encoded data removed]",
      "text/plain": [
       "<Figure size 1000x600 with 1 Axes>"
      ]
     },
     "metadata": {},
     "output_type": "display_data"
    }
   ],
   "source": [
    "feat_lebels = x_train.columns[0:]\n",
    "importances  = rfr.feature_importances_\n",
    "indices = np.argsort(importances)[::-1]\n",
    "index_list = []\n",
    "value_list = []\n",
    "for i,j in zip(range(x_train.shape[1]-1),indices):\n",
    "    index_list.append(feat_lebels[j])\n",
    "    value_list.append(importances[j])\n",
    "    print(i+1, feat_lebels[j], importances[j])\n",
    "\n",
    "plt.figure(figsize=(10,6))\n",
    "plt.barh(index_list[::-1],value_list[::-1])\n",
    "plt.yticks(fontsize = 12)\n",
    "plt.title('feature',fontsize = 14)\n",
    "plt.show()"
   ]
  },
  {
   "cell_type": "code",
   "execution_count": 18,
   "id": "0297b248",
   "metadata": {},
   "outputs": [
    {
     "name": "stdout",
     "output_type": "stream",
     "text": [
      "{'min_samples_leaf': 2, 'min_samples_split': 2, 'n_estimators': 75}\n"
     ]
    }
   ],
   "source": [
    "# find best parameters\n",
    "from sklearn.model_selection import GridSearchCV\n",
    "\n",
    "param_grid = {\n",
    "    'n_estimators':[50,75,100],\n",
    "    'min_samples_split':[2,3,5],\n",
    "    'min_samples_leaf':[1,2,3]\n",
    "}\n",
    "grid_seach_rf= GridSearchCV(estimator=RandomForestRegressor(random_state=0),param_grid=param_grid, scoring='neg_mean_squared_error', cv = 5)\n",
    "grid_seach_rf.fit(x_train, y_train)\n",
    "best = grid_seach_rf.best_params_\n",
    "print(best)"
   ]
  },
  {
   "cell_type": "code",
   "execution_count": 21,
   "id": "27604b1f",
   "metadata": {},
   "outputs": [
    {
     "name": "stdout",
     "output_type": "stream",
     "text": [
      "0.004165032598614373\n",
      "12.701298497524476\n"
     ]
    }
   ],
   "source": [
    "# model\n",
    "rfr_ = RandomForestRegressor(n_estimators=best['n_estimators'], \n",
    "    min_samples_leaf=best['min_samples_leaf'], min_samples_split=best['min_samples_split'],\n",
    "    random_state=0)\n",
    "rfr_.fit(x_train, y_train)\n",
    "y_pred = rfr_.predict(x_test)\n",
    "print(mean_squared_error(y_test, y_pred))\n",
    "print(mean_absolute_percentage_error(y_test, y_pred))"
   ]
  },
  {
   "cell_type": "code",
   "execution_count": 22,
   "id": "14130008",
   "metadata": {
    "scrolled": true
   },
   "outputs": [
    {
     "name": "stdout",
     "output_type": "stream",
     "text": [
      "sklearn score:0.647779456865148\n",
      "Mean Absolute Error:\n",
      " 0.05 degrees.\n",
      "Accuracy:\n",
      " 85.45 %.\n"
     ]
    }
   ],
   "source": [
    "# score\n",
    "regressor = RandomForestRegressor(n_estimators=100, min_samples_leaf=5)\n",
    "regressor.fit(x_train, y_train) \n",
    "y_pred = regressor.predict(x_test)\n",
    "print('sklearn score:{}'.format(r2_score(y_test, y_pred)))  \n",
    "\n",
    "errors = abs(y_pred - y_test)\n",
    "# Print out the mean absolute error (mae)\n",
    "print('Mean Absolute Error:\\n', np.round(np.mean(errors), 2), 'degrees.')\n",
    "mape = 100 * (errors / y_test)\n",
    "accuracy = 100 - np.mean(mape)\n",
    "print('Accuracy:\\n', round(accuracy, 2), '%.')"
   ]
  },
  {
   "cell_type": "code",
   "execution_count": 24,
   "id": "a92f50d2",
   "metadata": {},
   "outputs": [],
   "source": [
    "col = y_pred.shape[0]\n",
    "y_pred = pd.DataFrame(y_pred[-col:], index=range(col), columns=['quality'])"
   ]
  },
  {
   "cell_type": "code",
   "execution_count": 25,
   "id": "6423b9a7",
   "metadata": {},
   "outputs": [
    {
     "data": {
      "text/plain": [
       "38"
      ]
     },
     "execution_count": 25,
     "metadata": {},
     "output_type": "execute_result"
    }
   ],
   "source": [
    "y_test.shape[0]"
   ]
  },
  {
   "cell_type": "code",
   "execution_count": 26,
   "id": "32ddf34b",
   "metadata": {},
   "outputs": [
    {
     "data": {
      "text/html": [
       "<div>\n",
       "<style scoped>\n",
       "    .dataframe tbody tr th:only-of-type {\n",
       "        vertical-align: middle;\n",
       "    }\n",
       "\n",
       "    .dataframe tbody tr th {\n",
       "        vertical-align: top;\n",
       "    }\n",
       "\n",
       "    .dataframe thead th {\n",
       "        text-align: right;\n",
       "    }\n",
       "</style>\n",
       "<table border=\"1\" class=\"dataframe\">\n",
       "  <thead>\n",
       "    <tr style=\"text-align: right;\">\n",
       "      <th></th>\n",
       "      <th>quality</th>\n",
       "    </tr>\n",
       "  </thead>\n",
       "  <tbody>\n",
       "    <tr>\n",
       "      <th>0</th>\n",
       "      <td>0.443663</td>\n",
       "    </tr>\n",
       "    <tr>\n",
       "      <th>1</th>\n",
       "      <td>0.499099</td>\n",
       "    </tr>\n",
       "    <tr>\n",
       "      <th>2</th>\n",
       "      <td>0.445518</td>\n",
       "    </tr>\n",
       "    <tr>\n",
       "      <th>3</th>\n",
       "      <td>0.241471</td>\n",
       "    </tr>\n",
       "    <tr>\n",
       "      <th>4</th>\n",
       "      <td>0.426513</td>\n",
       "    </tr>\n",
       "    <tr>\n",
       "      <th>5</th>\n",
       "      <td>0.382162</td>\n",
       "    </tr>\n",
       "    <tr>\n",
       "      <th>6</th>\n",
       "      <td>0.418930</td>\n",
       "    </tr>\n",
       "    <tr>\n",
       "      <th>7</th>\n",
       "      <td>0.388133</td>\n",
       "    </tr>\n",
       "    <tr>\n",
       "      <th>8</th>\n",
       "      <td>0.473393</td>\n",
       "    </tr>\n",
       "    <tr>\n",
       "      <th>9</th>\n",
       "      <td>0.284958</td>\n",
       "    </tr>\n",
       "    <tr>\n",
       "      <th>10</th>\n",
       "      <td>0.409659</td>\n",
       "    </tr>\n",
       "    <tr>\n",
       "      <th>11</th>\n",
       "      <td>0.453288</td>\n",
       "    </tr>\n",
       "    <tr>\n",
       "      <th>12</th>\n",
       "      <td>0.403756</td>\n",
       "    </tr>\n",
       "    <tr>\n",
       "      <th>13</th>\n",
       "      <td>0.420252</td>\n",
       "    </tr>\n",
       "    <tr>\n",
       "      <th>14</th>\n",
       "      <td>0.488381</td>\n",
       "    </tr>\n",
       "    <tr>\n",
       "      <th>15</th>\n",
       "      <td>0.491039</td>\n",
       "    </tr>\n",
       "    <tr>\n",
       "      <th>16</th>\n",
       "      <td>0.280670</td>\n",
       "    </tr>\n",
       "    <tr>\n",
       "      <th>17</th>\n",
       "      <td>0.368589</td>\n",
       "    </tr>\n",
       "    <tr>\n",
       "      <th>18</th>\n",
       "      <td>0.250401</td>\n",
       "    </tr>\n",
       "    <tr>\n",
       "      <th>19</th>\n",
       "      <td>0.474529</td>\n",
       "    </tr>\n",
       "    <tr>\n",
       "      <th>20</th>\n",
       "      <td>0.447351</td>\n",
       "    </tr>\n",
       "    <tr>\n",
       "      <th>21</th>\n",
       "      <td>0.491083</td>\n",
       "    </tr>\n",
       "    <tr>\n",
       "      <th>22</th>\n",
       "      <td>0.410116</td>\n",
       "    </tr>\n",
       "    <tr>\n",
       "      <th>23</th>\n",
       "      <td>0.440225</td>\n",
       "    </tr>\n",
       "    <tr>\n",
       "      <th>24</th>\n",
       "      <td>0.446367</td>\n",
       "    </tr>\n",
       "    <tr>\n",
       "      <th>25</th>\n",
       "      <td>0.406758</td>\n",
       "    </tr>\n",
       "    <tr>\n",
       "      <th>26</th>\n",
       "      <td>0.424455</td>\n",
       "    </tr>\n",
       "    <tr>\n",
       "      <th>27</th>\n",
       "      <td>0.446564</td>\n",
       "    </tr>\n",
       "    <tr>\n",
       "      <th>28</th>\n",
       "      <td>0.356512</td>\n",
       "    </tr>\n",
       "    <tr>\n",
       "      <th>29</th>\n",
       "      <td>0.422803</td>\n",
       "    </tr>\n",
       "    <tr>\n",
       "      <th>30</th>\n",
       "      <td>0.435349</td>\n",
       "    </tr>\n",
       "    <tr>\n",
       "      <th>31</th>\n",
       "      <td>0.444356</td>\n",
       "    </tr>\n",
       "    <tr>\n",
       "      <th>32</th>\n",
       "      <td>0.244439</td>\n",
       "    </tr>\n",
       "    <tr>\n",
       "      <th>33</th>\n",
       "      <td>0.276711</td>\n",
       "    </tr>\n",
       "    <tr>\n",
       "      <th>34</th>\n",
       "      <td>0.271083</td>\n",
       "    </tr>\n",
       "    <tr>\n",
       "      <th>35</th>\n",
       "      <td>0.259284</td>\n",
       "    </tr>\n",
       "    <tr>\n",
       "      <th>36</th>\n",
       "      <td>0.384145</td>\n",
       "    </tr>\n",
       "    <tr>\n",
       "      <th>37</th>\n",
       "      <td>0.391081</td>\n",
       "    </tr>\n",
       "  </tbody>\n",
       "</table>\n",
       "</div>"
      ],
      "text/plain": [
       "     quality\n",
       "0   0.443663\n",
       "1   0.499099\n",
       "2   0.445518\n",
       "3   0.241471\n",
       "4   0.426513\n",
       "5   0.382162\n",
       "6   0.418930\n",
       "7   0.388133\n",
       "8   0.473393\n",
       "9   0.284958\n",
       "10  0.409659\n",
       "11  0.453288\n",
       "12  0.403756\n",
       "13  0.420252\n",
       "14  0.488381\n",
       "15  0.491039\n",
       "16  0.280670\n",
       "17  0.368589\n",
       "18  0.250401\n",
       "19  0.474529\n",
       "20  0.447351\n",
       "21  0.491083\n",
       "22  0.410116\n",
       "23  0.440225\n",
       "24  0.446367\n",
       "25  0.406758\n",
       "26  0.424455\n",
       "27  0.446564\n",
       "28  0.356512\n",
       "29  0.422803\n",
       "30  0.435349\n",
       "31  0.444356\n",
       "32  0.244439\n",
       "33  0.276711\n",
       "34  0.271083\n",
       "35  0.259284\n",
       "36  0.384145\n",
       "37  0.391081"
      ]
     },
     "execution_count": 26,
     "metadata": {},
     "output_type": "execute_result"
    }
   ],
   "source": [
    "y_pred"
   ]
  },
  {
   "cell_type": "code",
   "execution_count": 28,
   "id": "681a0671",
   "metadata": {},
   "outputs": [
    {
     "data": {
      "image/png": "[encoded data removed]",
      "text/plain": [
       "<Figure size 2000x500 with 1 Axes>"
      ]
     },
     "metadata": {},
     "output_type": "display_data"
    }
   ],
   "source": [
    "plt.figure(figsize=(20, 5))\n",
    "plt.plot(y_test[:200], color='red', label='quality_test')\n",
    "plt.plot(y_pred[:200], color='blue', label='quality_pred')\n",
    "plt.legend(loc=\"upper right\")\n",
    "plt.title(\"quality\")\n",
    "plt.show()\n"
   ]
  }
 ],
 "metadata": {
  "kernelspec": {
   "display_name": "Python 3 (ipykernel)",
   "language": "python",
   "name": "python3"
  },
  "language_info": {
   "codemirror_mode": {
    "name": "ipython",
    "version": 3
   },
   "file_extension": ".py",
   "mimetype": "text/x-python",
   "name": "python",
   "nbconvert_exporter": "python",
   "pygments_lexer": "ipython3",
   "version": "3.8.13"
  },
  "vscode": {
   "interpreter": {
    "hash": "5dafb13e4b6f58b857a75d76bdb469c05d137ecb565f1b307667c72b2cf0b5b5"
   }
  }
 },
 "nbformat": 4,
 "nbformat_minor": 5
}
