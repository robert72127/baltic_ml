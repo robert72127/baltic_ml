{
 "cells": [
  {
   "cell_type": "code",
   "execution_count": 235,
   "metadata": {},
   "outputs": [],
   "source": [
    "import pandas as pd\n",
    "import numpy as np\n",
    "import matplotlib.pyplot as plt\n",
    "from zipfile import ZipFile\n",
    "from functools import reduce\n",
    "\n",
    "from sklearn.impute import SimpleImputer\n",
    "from sklearn.ensemble import RandomForestRegressor\n",
    "from sklearn.model_selection import cross_val_score"
   ]
  },
  {
   "cell_type": "code",
   "execution_count": 236,
   "metadata": {},
   "outputs": [
    {
     "name": "stdout",
     "output_type": "stream",
     "text": [
      "Downloading...\n",
      "From: https://github.com/wenjie-hoo/baltic_ml/raw/main/2022.11.07-merged-single-observation.zip\n",
      "To: /Users/clarkhu/Desktop/ML/baltic_ml/2022.11.07-merged-single-observation.zip\n",
      "100%|████████████████████████████████████████| 329k/329k [00:00<00:00, 4.35MB/s]\n"
     ]
    }
   ],
   "source": [
    "!pip install -q gdown httpimport\n",
    "!gdown 'https://github.com/wenjie-hoo/baltic_ml/raw/main/2022.11.07-merged-single-observation.zip'"
   ]
  },
  {
   "cell_type": "code",
   "execution_count": 237,
   "metadata": {},
   "outputs": [],
   "source": [
    "# load data to data frame\n",
    "zip_file = ZipFile('./2022.11.07-merged-single-observation.zip')\n",
    "dfs = {text_file.filename: pd.read_csv(zip_file.open(text_file.filename))\n",
    "       for text_file in zip_file.infolist()\n",
    "       if text_file.filename.endswith('.csv') and not text_file.filename[37:].startswith('.')}\n",
    "\n",
    "df_list=[]\n",
    "for df in dfs.values():\n",
    "       df['DATE'] = pd.to_datetime(df['DATE'],dayfirst = True)\n",
    "       df_list.append(df)\n",
    "\n",
    "df = reduce(lambda left,right: pd.merge(left.drop_duplicates(subset=['DATE','DEPTH']),right.drop_duplicates(subset=['DATE','DEPTH']),on=['DATE','DEPTH'],how='outer'), df_list)\n",
    "# df.to_csv('xxxxx.csv')"
   ]
  },
  {
   "cell_type": "code",
   "execution_count": 238,
   "metadata": {},
   "outputs": [
    {
     "data": {
      "text/html": [
       "<div>\n",
       "<style scoped>\n",
       "    .dataframe tbody tr th:only-of-type {\n",
       "        vertical-align: middle;\n",
       "    }\n",
       "\n",
       "    .dataframe tbody tr th {\n",
       "        vertical-align: top;\n",
       "    }\n",
       "\n",
       "    .dataframe thead th {\n",
       "        text-align: right;\n",
       "    }\n",
       "</style>\n",
       "<table border=\"1\" class=\"dataframe\">\n",
       "  <thead>\n",
       "    <tr style=\"text-align: right;\">\n",
       "      <th></th>\n",
       "      <th>elements</th>\n",
       "      <th>missing</th>\n",
       "      <th>proportion</th>\n",
       "    </tr>\n",
       "  </thead>\n",
       "  <tbody>\n",
       "    <tr>\n",
       "      <th>8</th>\n",
       "      <td>PH</td>\n",
       "      <td>4011</td>\n",
       "      <td>0.841233</td>\n",
       "    </tr>\n",
       "    <tr>\n",
       "      <th>12</th>\n",
       "      <td>TN</td>\n",
       "      <td>2167</td>\n",
       "      <td>0.454488</td>\n",
       "    </tr>\n",
       "    <tr>\n",
       "      <th>5</th>\n",
       "      <td>NO2</td>\n",
       "      <td>2062</td>\n",
       "      <td>0.432466</td>\n",
       "    </tr>\n",
       "    <tr>\n",
       "      <th>4</th>\n",
       "      <td>NH4</td>\n",
       "      <td>1998</td>\n",
       "      <td>0.419044</td>\n",
       "    </tr>\n",
       "    <tr>\n",
       "      <th>11</th>\n",
       "      <td>SIO2</td>\n",
       "      <td>1920</td>\n",
       "      <td>0.402685</td>\n",
       "    </tr>\n",
       "    <tr>\n",
       "      <th>6</th>\n",
       "      <td>NO3</td>\n",
       "      <td>1886</td>\n",
       "      <td>0.395554</td>\n",
       "    </tr>\n",
       "    <tr>\n",
       "      <th>10</th>\n",
       "      <td>SECCHI</td>\n",
       "      <td>1796</td>\n",
       "      <td>0.376678</td>\n",
       "    </tr>\n",
       "    <tr>\n",
       "      <th>1</th>\n",
       "      <td>CHLORA</td>\n",
       "      <td>1773</td>\n",
       "      <td>0.371854</td>\n",
       "    </tr>\n",
       "    <tr>\n",
       "      <th>9</th>\n",
       "      <td>PO4</td>\n",
       "      <td>1202</td>\n",
       "      <td>0.252097</td>\n",
       "    </tr>\n",
       "    <tr>\n",
       "      <th>13</th>\n",
       "      <td>TP</td>\n",
       "      <td>801</td>\n",
       "      <td>0.167995</td>\n",
       "    </tr>\n",
       "    <tr>\n",
       "      <th>7</th>\n",
       "      <td>OXY</td>\n",
       "      <td>362</td>\n",
       "      <td>0.075923</td>\n",
       "    </tr>\n",
       "    <tr>\n",
       "      <th>2</th>\n",
       "      <td>CTDSAL</td>\n",
       "      <td>258</td>\n",
       "      <td>0.054111</td>\n",
       "    </tr>\n",
       "    <tr>\n",
       "      <th>3</th>\n",
       "      <td>CTDTMP</td>\n",
       "      <td>194</td>\n",
       "      <td>0.040688</td>\n",
       "    </tr>\n",
       "  </tbody>\n",
       "</table>\n",
       "</div>"
      ],
      "text/plain": [
       "   elements  missing  proportion\n",
       "8        PH     4011    0.841233\n",
       "12       TN     2167    0.454488\n",
       "5       NO2     2062    0.432466\n",
       "4       NH4     1998    0.419044\n",
       "11     SIO2     1920    0.402685\n",
       "6       NO3     1886    0.395554\n",
       "10   SECCHI     1796    0.376678\n",
       "1    CHLORA     1773    0.371854\n",
       "9       PO4     1202    0.252097\n",
       "13       TP      801    0.167995\n",
       "7       OXY      362    0.075923\n",
       "2    CTDSAL      258    0.054111\n",
       "3    CTDTMP      194    0.040688"
      ]
     },
     "execution_count": 238,
     "metadata": {},
     "output_type": "execute_result"
    }
   ],
   "source": [
    "df_missing = df.drop(['DATE'],axis=1)\n",
    "# df_missing = df.copy()\n",
    "missing = df_missing.isna().sum()\n",
    "missing = pd.DataFrame(data={'elements': missing.index,'missing':missing.values})\n",
    "missing = missing[~missing['missing'].isin([0])]\n",
    "missing['proportion'] =  missing['missing']/df_missing.shape[0]\n",
    "missing.sort_values(by='proportion',ascending=False)\n"
   ]
  },
  {
   "cell_type": "code",
   "execution_count": 239,
   "metadata": {},
   "outputs": [
    {
     "name": "stdout",
     "output_type": "stream",
     "text": [
      "<class 'pandas.core.frame.DataFrame'>\n",
      "Int64Index: 4768 entries, 0 to 4767\n",
      "Data columns (total 13 columns):\n",
      " #   Column  Non-Null Count  Dtype  \n",
      "---  ------  --------------  -----  \n",
      " 0   CHLORA  2995 non-null   float64\n",
      " 1   CTDSAL  4510 non-null   float64\n",
      " 2   CTDTMP  4574 non-null   float64\n",
      " 3   NH4     2770 non-null   float64\n",
      " 4   NO2     2706 non-null   float64\n",
      " 5   NO3     2882 non-null   float64\n",
      " 6   OXY     4406 non-null   float64\n",
      " 7   PH      757 non-null    float64\n",
      " 8   PO4     3566 non-null   float64\n",
      " 9   SECCHI  2972 non-null   float64\n",
      " 10  SIO2    2848 non-null   float64\n",
      " 11  TN      2601 non-null   float64\n",
      " 12  TP      3967 non-null   float64\n",
      "dtypes: float64(13)\n",
      "memory usage: 521.5 KB\n"
     ]
    }
   ],
   "source": [
    "df_missing[missing['elements']].info()\n",
    "df_missing = df_missing.drop(['DEPTH'],axis=1)\n",
    "df_missing = df_missing.drop(['PH'],axis=1) # PH has too many missing value\n",
    "# df_missing.head"
   ]
  },
  {
   "cell_type": "code",
   "execution_count": 240,
   "metadata": {},
   "outputs": [],
   "source": [
    "n_samples = df_missing.shape[0]\n",
    "n_features = df_missing.shape[1]"
   ]
  },
  {
   "cell_type": "code",
   "execution_count": 241,
   "metadata": {},
   "outputs": [
    {
     "data": {
      "text/plain": [
       "28608"
      ]
     },
     "execution_count": 241,
     "metadata": {},
     "output_type": "execute_result"
    }
   ],
   "source": [
    "rng = np.random.RandomState(0)\n",
    "missing_rate = 0.5\n",
    "n_missing_samples = int(np.floor(n_samples * n_features * missing_rate))\n",
    "n_missing_samples "
   ]
  },
  {
   "cell_type": "code",
   "execution_count": 242,
   "metadata": {},
   "outputs": [],
   "source": [
    "missing_features = rng.randint(0,n_features,n_missing_samples)\n",
    "missing_samples = rng.randint(0,n_samples,n_missing_samples)"
   ]
  },
  {
   "cell_type": "code",
   "execution_count": 243,
   "metadata": {},
   "outputs": [],
   "source": [
    "X_missing = df_missing.copy()\n",
    "y_missing = df_missing.copy()\n",
    "y_missing.dropna(inplace=True)\n",
    "X_missing = pd.DataFrame(X_missing)\n",
    "y_missing = pd.DataFrame(y_missing)"
   ]
  },
  {
   "cell_type": "code",
   "execution_count": 244,
   "metadata": {},
   "outputs": [
    {
     "data": {
      "text/html": [
       "<div>\n",
       "<style scoped>\n",
       "    .dataframe tbody tr th:only-of-type {\n",
       "        vertical-align: middle;\n",
       "    }\n",
       "\n",
       "    .dataframe tbody tr th {\n",
       "        vertical-align: top;\n",
       "    }\n",
       "\n",
       "    .dataframe thead th {\n",
       "        text-align: right;\n",
       "    }\n",
       "</style>\n",
       "<table border=\"1\" class=\"dataframe\">\n",
       "  <thead>\n",
       "    <tr style=\"text-align: right;\">\n",
       "      <th></th>\n",
       "      <th>CHLORA</th>\n",
       "      <th>CTDSAL</th>\n",
       "      <th>CTDTMP</th>\n",
       "      <th>NH4</th>\n",
       "      <th>NO2</th>\n",
       "      <th>NO3</th>\n",
       "      <th>OXY</th>\n",
       "      <th>PO4</th>\n",
       "      <th>SECCHI</th>\n",
       "      <th>SIO2</th>\n",
       "      <th>TN</th>\n",
       "      <th>TP</th>\n",
       "    </tr>\n",
       "  </thead>\n",
       "  <tbody>\n",
       "    <tr>\n",
       "      <th>0</th>\n",
       "      <td>2.9</td>\n",
       "      <td>17.9</td>\n",
       "      <td>2.2</td>\n",
       "      <td>NaN</td>\n",
       "      <td>NaN</td>\n",
       "      <td>NaN</td>\n",
       "      <td>515.6</td>\n",
       "      <td>0.03</td>\n",
       "      <td>NaN</td>\n",
       "      <td>NaN</td>\n",
       "      <td>NaN</td>\n",
       "      <td>0.68</td>\n",
       "    </tr>\n",
       "    <tr>\n",
       "      <th>1</th>\n",
       "      <td>26.5</td>\n",
       "      <td>20.0</td>\n",
       "      <td>1.5</td>\n",
       "      <td>NaN</td>\n",
       "      <td>NaN</td>\n",
       "      <td>NaN</td>\n",
       "      <td>396.9</td>\n",
       "      <td>0.27</td>\n",
       "      <td>NaN</td>\n",
       "      <td>NaN</td>\n",
       "      <td>NaN</td>\n",
       "      <td>2.26</td>\n",
       "    </tr>\n",
       "    <tr>\n",
       "      <th>2</th>\n",
       "      <td>2.8</td>\n",
       "      <td>17.8</td>\n",
       "      <td>2.2</td>\n",
       "      <td>NaN</td>\n",
       "      <td>NaN</td>\n",
       "      <td>NaN</td>\n",
       "      <td>421.9</td>\n",
       "      <td>0.15</td>\n",
       "      <td>NaN</td>\n",
       "      <td>NaN</td>\n",
       "      <td>NaN</td>\n",
       "      <td>1.19</td>\n",
       "    </tr>\n",
       "    <tr>\n",
       "      <th>3</th>\n",
       "      <td>7.9</td>\n",
       "      <td>18.7</td>\n",
       "      <td>1.9</td>\n",
       "      <td>NaN</td>\n",
       "      <td>NaN</td>\n",
       "      <td>NaN</td>\n",
       "      <td>478.1</td>\n",
       "      <td>0.10</td>\n",
       "      <td>NaN</td>\n",
       "      <td>NaN</td>\n",
       "      <td>NaN</td>\n",
       "      <td>4.91</td>\n",
       "    </tr>\n",
       "    <tr>\n",
       "      <th>4</th>\n",
       "      <td>6.6</td>\n",
       "      <td>18.5</td>\n",
       "      <td>2.1</td>\n",
       "      <td>NaN</td>\n",
       "      <td>NaN</td>\n",
       "      <td>NaN</td>\n",
       "      <td>471.9</td>\n",
       "      <td>0.16</td>\n",
       "      <td>NaN</td>\n",
       "      <td>NaN</td>\n",
       "      <td>NaN</td>\n",
       "      <td>0.84</td>\n",
       "    </tr>\n",
       "    <tr>\n",
       "      <th>...</th>\n",
       "      <td>...</td>\n",
       "      <td>...</td>\n",
       "      <td>...</td>\n",
       "      <td>...</td>\n",
       "      <td>...</td>\n",
       "      <td>...</td>\n",
       "      <td>...</td>\n",
       "      <td>...</td>\n",
       "      <td>...</td>\n",
       "      <td>...</td>\n",
       "      <td>...</td>\n",
       "      <td>...</td>\n",
       "    </tr>\n",
       "    <tr>\n",
       "      <th>4763</th>\n",
       "      <td>NaN</td>\n",
       "      <td>20.5</td>\n",
       "      <td>1.4</td>\n",
       "      <td>NaN</td>\n",
       "      <td>NaN</td>\n",
       "      <td>NaN</td>\n",
       "      <td>375.0</td>\n",
       "      <td>0.55</td>\n",
       "      <td>NaN</td>\n",
       "      <td>NaN</td>\n",
       "      <td>NaN</td>\n",
       "      <td>0.84</td>\n",
       "    </tr>\n",
       "    <tr>\n",
       "      <th>4764</th>\n",
       "      <td>NaN</td>\n",
       "      <td>20.5</td>\n",
       "      <td>1.3</td>\n",
       "      <td>NaN</td>\n",
       "      <td>NaN</td>\n",
       "      <td>NaN</td>\n",
       "      <td>412.5</td>\n",
       "      <td>0.59</td>\n",
       "      <td>NaN</td>\n",
       "      <td>NaN</td>\n",
       "      <td>NaN</td>\n",
       "      <td>1.13</td>\n",
       "    </tr>\n",
       "    <tr>\n",
       "      <th>4765</th>\n",
       "      <td>NaN</td>\n",
       "      <td>20.4</td>\n",
       "      <td>1.6</td>\n",
       "      <td>NaN</td>\n",
       "      <td>NaN</td>\n",
       "      <td>NaN</td>\n",
       "      <td>356.3</td>\n",
       "      <td>0.73</td>\n",
       "      <td>NaN</td>\n",
       "      <td>NaN</td>\n",
       "      <td>NaN</td>\n",
       "      <td>0.90</td>\n",
       "    </tr>\n",
       "    <tr>\n",
       "      <th>4766</th>\n",
       "      <td>NaN</td>\n",
       "      <td>20.4</td>\n",
       "      <td>1.5</td>\n",
       "      <td>NaN</td>\n",
       "      <td>NaN</td>\n",
       "      <td>NaN</td>\n",
       "      <td>462.5</td>\n",
       "      <td>0.42</td>\n",
       "      <td>NaN</td>\n",
       "      <td>NaN</td>\n",
       "      <td>NaN</td>\n",
       "      <td>0.58</td>\n",
       "    </tr>\n",
       "    <tr>\n",
       "      <th>4767</th>\n",
       "      <td>NaN</td>\n",
       "      <td>20.4</td>\n",
       "      <td>1.6</td>\n",
       "      <td>NaN</td>\n",
       "      <td>NaN</td>\n",
       "      <td>NaN</td>\n",
       "      <td>343.8</td>\n",
       "      <td>0.54</td>\n",
       "      <td>NaN</td>\n",
       "      <td>NaN</td>\n",
       "      <td>NaN</td>\n",
       "      <td>1.10</td>\n",
       "    </tr>\n",
       "  </tbody>\n",
       "</table>\n",
       "<p>4768 rows × 12 columns</p>\n",
       "</div>"
      ],
      "text/plain": [
       "      CHLORA  CTDSAL  CTDTMP  NH4  NO2  NO3    OXY   PO4  SECCHI  SIO2  TN  \\\n",
       "0        2.9    17.9     2.2  NaN  NaN  NaN  515.6  0.03     NaN   NaN NaN   \n",
       "1       26.5    20.0     1.5  NaN  NaN  NaN  396.9  0.27     NaN   NaN NaN   \n",
       "2        2.8    17.8     2.2  NaN  NaN  NaN  421.9  0.15     NaN   NaN NaN   \n",
       "3        7.9    18.7     1.9  NaN  NaN  NaN  478.1  0.10     NaN   NaN NaN   \n",
       "4        6.6    18.5     2.1  NaN  NaN  NaN  471.9  0.16     NaN   NaN NaN   \n",
       "...      ...     ...     ...  ...  ...  ...    ...   ...     ...   ...  ..   \n",
       "4763     NaN    20.5     1.4  NaN  NaN  NaN  375.0  0.55     NaN   NaN NaN   \n",
       "4764     NaN    20.5     1.3  NaN  NaN  NaN  412.5  0.59     NaN   NaN NaN   \n",
       "4765     NaN    20.4     1.6  NaN  NaN  NaN  356.3  0.73     NaN   NaN NaN   \n",
       "4766     NaN    20.4     1.5  NaN  NaN  NaN  462.5  0.42     NaN   NaN NaN   \n",
       "4767     NaN    20.4     1.6  NaN  NaN  NaN  343.8  0.54     NaN   NaN NaN   \n",
       "\n",
       "        TP  \n",
       "0     0.68  \n",
       "1     2.26  \n",
       "2     1.19  \n",
       "3     4.91  \n",
       "4     0.84  \n",
       "...    ...  \n",
       "4763  0.84  \n",
       "4764  1.13  \n",
       "4765  0.90  \n",
       "4766  0.58  \n",
       "4767  1.10  \n",
       "\n",
       "[4768 rows x 12 columns]"
      ]
     },
     "execution_count": 244,
     "metadata": {},
     "output_type": "execute_result"
    }
   ],
   "source": [
    "X_missing"
   ]
  },
  {
   "cell_type": "code",
   "execution_count": 245,
   "metadata": {},
   "outputs": [],
   "source": [
    "# fill with mean value\n",
    "imp_mean = SimpleImputer(missing_values=np.nan, strategy='mean')\n",
    "X_missing_mean = imp_mean.fit_transform(X_missing)"
   ]
  },
  {
   "cell_type": "code",
   "execution_count": 246,
   "metadata": {},
   "outputs": [
    {
     "data": {
      "text/plain": [
       "0     0\n",
       "1     0\n",
       "2     0\n",
       "3     0\n",
       "4     0\n",
       "5     0\n",
       "6     0\n",
       "7     0\n",
       "8     0\n",
       "9     0\n",
       "10    0\n",
       "11    0\n",
       "dtype: int64"
      ]
     },
     "execution_count": 246,
     "metadata": {},
     "output_type": "execute_result"
    }
   ],
   "source": [
    "X_missing_mean = pd.DataFrame(X_missing_mean)\n",
    "X_missing_mean.isnull().sum() # check nan value"
   ]
  },
  {
   "cell_type": "code",
   "execution_count": 247,
   "metadata": {},
   "outputs": [],
   "source": [
    "# fill with 0\n",
    "imp_0 = SimpleImputer(missing_values=np.nan,strategy=\"constant\",fill_value=0)\n",
    "X_missing_0 = imp_0.fit_transform(X_missing)"
   ]
  },
  {
   "cell_type": "code",
   "execution_count": 248,
   "metadata": {},
   "outputs": [],
   "source": [
    "# regression method\n",
    "X_missing_reg = X_missing.copy()  \n",
    "sortindex = np.argsort(X_missing_reg.isnull().sum(axis=0)).values  \n",
    "# sortindex\n"
   ]
  },
  {
   "cell_type": "code",
   "execution_count": 249,
   "metadata": {},
   "outputs": [
    {
     "name": "stdout",
     "output_type": "stream",
     "text": [
      "2\n",
      "1\n",
      "6\n",
      "11\n",
      "7\n",
      "0\n",
      "8\n",
      "5\n",
      "9\n",
      "3\n",
      "4\n",
      "10\n"
     ]
    }
   ],
   "source": [
    "for i in sortindex:\n",
    "    print(i)"
   ]
  },
  {
   "cell_type": "code",
   "execution_count": 250,
   "metadata": {},
   "outputs": [
    {
     "name": "stdout",
     "output_type": "stream",
     "text": [
      "0       2.2\n",
      "1       1.5\n",
      "2       2.2\n",
      "3       1.9\n",
      "4       2.1\n",
      "       ... \n",
      "4763    1.4\n",
      "4764    1.3\n",
      "4765    1.6\n",
      "4766    1.5\n",
      "4767    1.6\n",
      "Name: CTDTMP, Length: 4768, dtype: float64\n",
      "0       17.9\n",
      "1       20.0\n",
      "2       17.8\n",
      "3       18.7\n",
      "4       18.5\n",
      "        ... \n",
      "4763    20.5\n",
      "4764    20.5\n",
      "4765    20.4\n",
      "4766    20.4\n",
      "4767    20.4\n",
      "Name: CTDSAL, Length: 4768, dtype: float64\n"
     ]
    },
    {
     "name": "stderr",
     "output_type": "stream",
     "text": [
      "/Users/clarkhu/opt/anaconda3/envs/ml/lib/python3.8/site-packages/sklearn/utils/validation.py:1858: FutureWarning: Feature names only support names that are all strings. Got feature names with dtypes: ['int64', 'str']. An error will be raised in 1.2.\n",
      "  warnings.warn(\n",
      "/Users/clarkhu/opt/anaconda3/envs/ml/lib/python3.8/site-packages/sklearn/utils/validation.py:1858: FutureWarning: Feature names only support names that are all strings. Got feature names with dtypes: ['int64', 'str']. An error will be raised in 1.2.\n",
      "  warnings.warn(\n"
     ]
    },
    {
     "name": "stdout",
     "output_type": "stream",
     "text": [
      "0       515.6\n",
      "1       396.9\n",
      "2       421.9\n",
      "3       478.1\n",
      "4       471.9\n",
      "        ...  \n",
      "4763    375.0\n",
      "4764    412.5\n",
      "4765    356.3\n",
      "4766    462.5\n",
      "4767    343.8\n",
      "Name: OXY, Length: 4768, dtype: float64\n"
     ]
    },
    {
     "name": "stderr",
     "output_type": "stream",
     "text": [
      "/Users/clarkhu/opt/anaconda3/envs/ml/lib/python3.8/site-packages/sklearn/utils/validation.py:1858: FutureWarning: Feature names only support names that are all strings. Got feature names with dtypes: ['int64', 'str']. An error will be raised in 1.2.\n",
      "  warnings.warn(\n",
      "/Users/clarkhu/opt/anaconda3/envs/ml/lib/python3.8/site-packages/sklearn/utils/validation.py:1858: FutureWarning: Feature names only support names that are all strings. Got feature names with dtypes: ['int64', 'str']. An error will be raised in 1.2.\n",
      "  warnings.warn(\n"
     ]
    },
    {
     "name": "stdout",
     "output_type": "stream",
     "text": [
      "0       0.68\n",
      "1       2.26\n",
      "2       1.19\n",
      "3       4.91\n",
      "4       0.84\n",
      "        ... \n",
      "4763    0.84\n",
      "4764    1.13\n",
      "4765    0.90\n",
      "4766    0.58\n",
      "4767    1.10\n",
      "Name: TP, Length: 4768, dtype: float64\n"
     ]
    },
    {
     "name": "stderr",
     "output_type": "stream",
     "text": [
      "/Users/clarkhu/opt/anaconda3/envs/ml/lib/python3.8/site-packages/sklearn/utils/validation.py:1858: FutureWarning: Feature names only support names that are all strings. Got feature names with dtypes: ['int64', 'str']. An error will be raised in 1.2.\n",
      "  warnings.warn(\n",
      "/Users/clarkhu/opt/anaconda3/envs/ml/lib/python3.8/site-packages/sklearn/utils/validation.py:1858: FutureWarning: Feature names only support names that are all strings. Got feature names with dtypes: ['int64', 'str']. An error will be raised in 1.2.\n",
      "  warnings.warn(\n"
     ]
    },
    {
     "name": "stdout",
     "output_type": "stream",
     "text": [
      "0       0.03\n",
      "1       0.27\n",
      "2       0.15\n",
      "3       0.10\n",
      "4       0.16\n",
      "        ... \n",
      "4763    0.55\n",
      "4764    0.59\n",
      "4765    0.73\n",
      "4766    0.42\n",
      "4767    0.54\n",
      "Name: PO4, Length: 4768, dtype: float64\n"
     ]
    },
    {
     "name": "stderr",
     "output_type": "stream",
     "text": [
      "/Users/clarkhu/opt/anaconda3/envs/ml/lib/python3.8/site-packages/sklearn/utils/validation.py:1858: FutureWarning: Feature names only support names that are all strings. Got feature names with dtypes: ['int64', 'str']. An error will be raised in 1.2.\n",
      "  warnings.warn(\n",
      "/Users/clarkhu/opt/anaconda3/envs/ml/lib/python3.8/site-packages/sklearn/utils/validation.py:1858: FutureWarning: Feature names only support names that are all strings. Got feature names with dtypes: ['int64', 'str']. An error will be raised in 1.2.\n",
      "  warnings.warn(\n"
     ]
    },
    {
     "name": "stdout",
     "output_type": "stream",
     "text": [
      "0        2.9\n",
      "1       26.5\n",
      "2        2.8\n",
      "3        7.9\n",
      "4        6.6\n",
      "        ... \n",
      "4763     NaN\n",
      "4764     NaN\n",
      "4765     NaN\n",
      "4766     NaN\n",
      "4767     NaN\n",
      "Name: CHLORA, Length: 4768, dtype: float64\n"
     ]
    },
    {
     "name": "stderr",
     "output_type": "stream",
     "text": [
      "/Users/clarkhu/opt/anaconda3/envs/ml/lib/python3.8/site-packages/sklearn/utils/validation.py:1858: FutureWarning: Feature names only support names that are all strings. Got feature names with dtypes: ['int64', 'str']. An error will be raised in 1.2.\n",
      "  warnings.warn(\n",
      "/Users/clarkhu/opt/anaconda3/envs/ml/lib/python3.8/site-packages/sklearn/utils/validation.py:1858: FutureWarning: Feature names only support names that are all strings. Got feature names with dtypes: ['int64', 'str']. An error will be raised in 1.2.\n",
      "  warnings.warn(\n"
     ]
    },
    {
     "name": "stdout",
     "output_type": "stream",
     "text": [
      "0      NaN\n",
      "1      NaN\n",
      "2      NaN\n",
      "3      NaN\n",
      "4      NaN\n",
      "        ..\n",
      "4763   NaN\n",
      "4764   NaN\n",
      "4765   NaN\n",
      "4766   NaN\n",
      "4767   NaN\n",
      "Name: SECCHI, Length: 4768, dtype: float64\n"
     ]
    },
    {
     "name": "stderr",
     "output_type": "stream",
     "text": [
      "/Users/clarkhu/opt/anaconda3/envs/ml/lib/python3.8/site-packages/sklearn/utils/validation.py:1858: FutureWarning: Feature names only support names that are all strings. Got feature names with dtypes: ['int64', 'str']. An error will be raised in 1.2.\n",
      "  warnings.warn(\n",
      "/Users/clarkhu/opt/anaconda3/envs/ml/lib/python3.8/site-packages/sklearn/utils/validation.py:1858: FutureWarning: Feature names only support names that are all strings. Got feature names with dtypes: ['int64', 'str']. An error will be raised in 1.2.\n",
      "  warnings.warn(\n"
     ]
    },
    {
     "name": "stdout",
     "output_type": "stream",
     "text": [
      "0      NaN\n",
      "1      NaN\n",
      "2      NaN\n",
      "3      NaN\n",
      "4      NaN\n",
      "        ..\n",
      "4763   NaN\n",
      "4764   NaN\n",
      "4765   NaN\n",
      "4766   NaN\n",
      "4767   NaN\n",
      "Name: NO3, Length: 4768, dtype: float64\n"
     ]
    },
    {
     "name": "stderr",
     "output_type": "stream",
     "text": [
      "/Users/clarkhu/opt/anaconda3/envs/ml/lib/python3.8/site-packages/sklearn/utils/validation.py:1858: FutureWarning: Feature names only support names that are all strings. Got feature names with dtypes: ['int64', 'str']. An error will be raised in 1.2.\n",
      "  warnings.warn(\n",
      "/Users/clarkhu/opt/anaconda3/envs/ml/lib/python3.8/site-packages/sklearn/utils/validation.py:1858: FutureWarning: Feature names only support names that are all strings. Got feature names with dtypes: ['int64', 'str']. An error will be raised in 1.2.\n",
      "  warnings.warn(\n"
     ]
    },
    {
     "name": "stdout",
     "output_type": "stream",
     "text": [
      "0      NaN\n",
      "1      NaN\n",
      "2      NaN\n",
      "3      NaN\n",
      "4      NaN\n",
      "        ..\n",
      "4763   NaN\n",
      "4764   NaN\n",
      "4765   NaN\n",
      "4766   NaN\n",
      "4767   NaN\n",
      "Name: SIO2, Length: 4768, dtype: float64\n"
     ]
    },
    {
     "name": "stderr",
     "output_type": "stream",
     "text": [
      "/Users/clarkhu/opt/anaconda3/envs/ml/lib/python3.8/site-packages/sklearn/utils/validation.py:1858: FutureWarning: Feature names only support names that are all strings. Got feature names with dtypes: ['int64', 'str']. An error will be raised in 1.2.\n",
      "  warnings.warn(\n",
      "/Users/clarkhu/opt/anaconda3/envs/ml/lib/python3.8/site-packages/sklearn/utils/validation.py:1858: FutureWarning: Feature names only support names that are all strings. Got feature names with dtypes: ['int64', 'str']. An error will be raised in 1.2.\n",
      "  warnings.warn(\n"
     ]
    },
    {
     "name": "stdout",
     "output_type": "stream",
     "text": [
      "0      NaN\n",
      "1      NaN\n",
      "2      NaN\n",
      "3      NaN\n",
      "4      NaN\n",
      "        ..\n",
      "4763   NaN\n",
      "4764   NaN\n",
      "4765   NaN\n",
      "4766   NaN\n",
      "4767   NaN\n",
      "Name: NH4, Length: 4768, dtype: float64\n"
     ]
    },
    {
     "name": "stderr",
     "output_type": "stream",
     "text": [
      "/Users/clarkhu/opt/anaconda3/envs/ml/lib/python3.8/site-packages/sklearn/utils/validation.py:1858: FutureWarning: Feature names only support names that are all strings. Got feature names with dtypes: ['int64', 'str']. An error will be raised in 1.2.\n",
      "  warnings.warn(\n",
      "/Users/clarkhu/opt/anaconda3/envs/ml/lib/python3.8/site-packages/sklearn/utils/validation.py:1858: FutureWarning: Feature names only support names that are all strings. Got feature names with dtypes: ['int64', 'str']. An error will be raised in 1.2.\n",
      "  warnings.warn(\n"
     ]
    },
    {
     "name": "stdout",
     "output_type": "stream",
     "text": [
      "0      NaN\n",
      "1      NaN\n",
      "2      NaN\n",
      "3      NaN\n",
      "4      NaN\n",
      "        ..\n",
      "4763   NaN\n",
      "4764   NaN\n",
      "4765   NaN\n",
      "4766   NaN\n",
      "4767   NaN\n",
      "Name: NO2, Length: 4768, dtype: float64\n"
     ]
    },
    {
     "name": "stderr",
     "output_type": "stream",
     "text": [
      "/Users/clarkhu/opt/anaconda3/envs/ml/lib/python3.8/site-packages/sklearn/utils/validation.py:1858: FutureWarning: Feature names only support names that are all strings. Got feature names with dtypes: ['int64', 'str']. An error will be raised in 1.2.\n",
      "  warnings.warn(\n",
      "/Users/clarkhu/opt/anaconda3/envs/ml/lib/python3.8/site-packages/sklearn/utils/validation.py:1858: FutureWarning: Feature names only support names that are all strings. Got feature names with dtypes: ['int64', 'str']. An error will be raised in 1.2.\n",
      "  warnings.warn(\n"
     ]
    },
    {
     "name": "stdout",
     "output_type": "stream",
     "text": [
      "0      NaN\n",
      "1      NaN\n",
      "2      NaN\n",
      "3      NaN\n",
      "4      NaN\n",
      "        ..\n",
      "4763   NaN\n",
      "4764   NaN\n",
      "4765   NaN\n",
      "4766   NaN\n",
      "4767   NaN\n",
      "Name: TN, Length: 4768, dtype: float64\n"
     ]
    },
    {
     "name": "stderr",
     "output_type": "stream",
     "text": [
      "/Users/clarkhu/opt/anaconda3/envs/ml/lib/python3.8/site-packages/sklearn/utils/validation.py:1858: FutureWarning: Feature names only support names that are all strings. Got feature names with dtypes: ['int64', 'str']. An error will be raised in 1.2.\n",
      "  warnings.warn(\n",
      "/Users/clarkhu/opt/anaconda3/envs/ml/lib/python3.8/site-packages/sklearn/utils/validation.py:1858: FutureWarning: Feature names only support names that are all strings. Got feature names with dtypes: ['int64', 'str']. An error will be raised in 1.2.\n",
      "  warnings.warn(\n"
     ]
    }
   ],
   "source": [
    "for i in sortindex:\n",
    "    df_ = X_missing_reg\n",
    "    \n",
    "    fillc = df_.iloc[:,i] \n",
    "    print(fillc)\n",
    "    df_ = pd.concat([df_.iloc[:,df_.columns != i],pd.DataFrame(y_missing)],axis=1)\n",
    "\n",
    "    df_0 = SimpleImputer(missing_values=np.nan,strategy='constant',fill_value=0).fit_transform(df_)\n",
    "    # print(df_0)\n",
    "\n",
    "    Ytrain = fillc[fillc.notnull()]  \n",
    "    Ytest = fillc[fillc.isnull()]  \n",
    "    \n",
    "    Xtrain = df_0[Ytrain.index,:]  \n",
    "    Xtest = df_0[Ytest.index,:]  \n",
    "    # print('Xtest:',Xtest)\n",
    "    rfc = RandomForestRegressor(n_estimators = 100)\n",
    "    rfc = rfc.fit(Xtrain,Ytrain)  \n",
    "    Ypredict = rfc.predict(Xtest)\n",
    "\n",
    "    X_missing_reg.loc[X_missing_reg.iloc[:,i].isnull(),i] = Ypredict"
   ]
  },
  {
   "cell_type": "code",
   "execution_count": 257,
   "metadata": {},
   "outputs": [],
   "source": [
    "X_missing_reg.to_csv('aaxxxxx.csv')"
   ]
  },
  {
   "cell_type": "code",
   "execution_count": 258,
   "metadata": {},
   "outputs": [
    {
     "name": "stderr",
     "output_type": "stream",
     "text": [
      "/Users/clarkhu/opt/anaconda3/envs/ml/lib/python3.8/site-packages/sklearn/utils/validation.py:1858: FutureWarning: Feature names only support names that are all strings. Got feature names with dtypes: ['int64', 'str']. An error will be raised in 1.2.\n",
      "  warnings.warn(\n",
      "/Users/clarkhu/opt/anaconda3/envs/ml/lib/python3.8/site-packages/sklearn/utils/validation.py:1858: FutureWarning: Feature names only support names that are all strings. Got feature names with dtypes: ['int64', 'str']. An error will be raised in 1.2.\n",
      "  warnings.warn(\n",
      "/Users/clarkhu/opt/anaconda3/envs/ml/lib/python3.8/site-packages/sklearn/utils/validation.py:1858: FutureWarning: Feature names only support names that are all strings. Got feature names with dtypes: ['int64', 'str']. An error will be raised in 1.2.\n",
      "  warnings.warn(\n",
      "/Users/clarkhu/opt/anaconda3/envs/ml/lib/python3.8/site-packages/sklearn/utils/validation.py:1858: FutureWarning: Feature names only support names that are all strings. Got feature names with dtypes: ['int64', 'str']. An error will be raised in 1.2.\n",
      "  warnings.warn(\n",
      "/Users/clarkhu/opt/anaconda3/envs/ml/lib/python3.8/site-packages/sklearn/utils/validation.py:1858: FutureWarning: Feature names only support names that are all strings. Got feature names with dtypes: ['int64', 'str']. An error will be raised in 1.2.\n",
      "  warnings.warn(\n"
     ]
    },
    {
     "ename": "ValueError",
     "evalue": "\nAll the 5 fits failed.\nIt is very likely that your model is misconfigured.\nYou can try to debug the error by setting error_score='raise'.\n\nBelow are more details about the failures:\n--------------------------------------------------------------------------------\n5 fits failed with the following error:\nTraceback (most recent call last):\n  File \"/Users/clarkhu/opt/anaconda3/envs/ml/lib/python3.8/site-packages/sklearn/model_selection/_validation.py\", line 686, in _fit_and_score\n    estimator.fit(X_train, y_train, **fit_params)\n  File \"/Users/clarkhu/opt/anaconda3/envs/ml/lib/python3.8/site-packages/sklearn/ensemble/_forest.py\", line 331, in fit\n    X, y = self._validate_data(\n  File \"/Users/clarkhu/opt/anaconda3/envs/ml/lib/python3.8/site-packages/sklearn/base.py\", line 596, in _validate_data\n    X, y = check_X_y(X, y, **check_params)\n  File \"/Users/clarkhu/opt/anaconda3/envs/ml/lib/python3.8/site-packages/sklearn/utils/validation.py\", line 1074, in check_X_y\n    X = check_array(\n  File \"/Users/clarkhu/opt/anaconda3/envs/ml/lib/python3.8/site-packages/sklearn/utils/validation.py\", line 899, in check_array\n    _assert_all_finite(\n  File \"/Users/clarkhu/opt/anaconda3/envs/ml/lib/python3.8/site-packages/sklearn/utils/validation.py\", line 146, in _assert_all_finite\n    raise ValueError(msg_err)\nValueError: Input X contains NaN.\nRandomForestRegressor does not accept missing values encoded as NaN natively. For supervised learning, you might want to consider sklearn.ensemble.HistGradientBoostingClassifier and Regressor which accept missing values encoded as NaNs natively. Alternatively, it is possible to preprocess the data, for instance by using an imputer transformer in a pipeline or drop samples with missing values. See https://scikit-learn.org/stable/modules/impute.html You can find a list of all estimators that handle NaN values at the following page: https://scikit-learn.org/stable/modules/impute.html#estimators-that-handle-nan-values\n",
     "output_type": "error",
     "traceback": [
      "\u001b[0;31m---------------------------------------------------------------------------\u001b[0m",
      "\u001b[0;31mValueError\u001b[0m                                Traceback (most recent call last)",
      "Cell \u001b[0;32mIn[258], line 7\u001b[0m\n\u001b[1;32m      5\u001b[0m \u001b[39mfor\u001b[39;00m x \u001b[39min\u001b[39;00m X:\n\u001b[1;32m      6\u001b[0m     estimator \u001b[39m=\u001b[39m RandomForestRegressor(random_state\u001b[39m=\u001b[39m\u001b[39m0\u001b[39m, n_estimators\u001b[39m=\u001b[39m\u001b[39m100\u001b[39m) \u001b[39m# 实例化\u001b[39;00m\n\u001b[0;32m----> 7\u001b[0m     scores \u001b[39m=\u001b[39m cross_val_score(estimator,x,X_missing_mean,scoring\u001b[39m=\u001b[39;49m\u001b[39m\"\u001b[39;49m\u001b[39mneg_mean_squared_error\u001b[39;49m\u001b[39m\"\u001b[39;49m,cv\u001b[39m=\u001b[39;49m\u001b[39m5\u001b[39;49m)\u001b[39m.\u001b[39mmean()\n\u001b[1;32m      8\u001b[0m     mse\u001b[39m.\u001b[39mappend(scores \u001b[39m*\u001b[39m \u001b[39m-\u001b[39m\u001b[39m1\u001b[39m)\n",
      "File \u001b[0;32m~/opt/anaconda3/envs/ml/lib/python3.8/site-packages/sklearn/model_selection/_validation.py:515\u001b[0m, in \u001b[0;36mcross_val_score\u001b[0;34m(estimator, X, y, groups, scoring, cv, n_jobs, verbose, fit_params, pre_dispatch, error_score)\u001b[0m\n\u001b[1;32m    512\u001b[0m \u001b[39m# To ensure multimetric format is not supported\u001b[39;00m\n\u001b[1;32m    513\u001b[0m scorer \u001b[39m=\u001b[39m check_scoring(estimator, scoring\u001b[39m=\u001b[39mscoring)\n\u001b[0;32m--> 515\u001b[0m cv_results \u001b[39m=\u001b[39m cross_validate(\n\u001b[1;32m    516\u001b[0m     estimator\u001b[39m=\u001b[39;49mestimator,\n\u001b[1;32m    517\u001b[0m     X\u001b[39m=\u001b[39;49mX,\n\u001b[1;32m    518\u001b[0m     y\u001b[39m=\u001b[39;49my,\n\u001b[1;32m    519\u001b[0m     groups\u001b[39m=\u001b[39;49mgroups,\n\u001b[1;32m    520\u001b[0m     scoring\u001b[39m=\u001b[39;49m{\u001b[39m\"\u001b[39;49m\u001b[39mscore\u001b[39;49m\u001b[39m\"\u001b[39;49m: scorer},\n\u001b[1;32m    521\u001b[0m     cv\u001b[39m=\u001b[39;49mcv,\n\u001b[1;32m    522\u001b[0m     n_jobs\u001b[39m=\u001b[39;49mn_jobs,\n\u001b[1;32m    523\u001b[0m     verbose\u001b[39m=\u001b[39;49mverbose,\n\u001b[1;32m    524\u001b[0m     fit_params\u001b[39m=\u001b[39;49mfit_params,\n\u001b[1;32m    525\u001b[0m     pre_dispatch\u001b[39m=\u001b[39;49mpre_dispatch,\n\u001b[1;32m    526\u001b[0m     error_score\u001b[39m=\u001b[39;49merror_score,\n\u001b[1;32m    527\u001b[0m )\n\u001b[1;32m    528\u001b[0m \u001b[39mreturn\u001b[39;00m cv_results[\u001b[39m\"\u001b[39m\u001b[39mtest_score\u001b[39m\u001b[39m\"\u001b[39m]\n",
      "File \u001b[0;32m~/opt/anaconda3/envs/ml/lib/python3.8/site-packages/sklearn/model_selection/_validation.py:285\u001b[0m, in \u001b[0;36mcross_validate\u001b[0;34m(estimator, X, y, groups, scoring, cv, n_jobs, verbose, fit_params, pre_dispatch, return_train_score, return_estimator, error_score)\u001b[0m\n\u001b[1;32m    265\u001b[0m parallel \u001b[39m=\u001b[39m Parallel(n_jobs\u001b[39m=\u001b[39mn_jobs, verbose\u001b[39m=\u001b[39mverbose, pre_dispatch\u001b[39m=\u001b[39mpre_dispatch)\n\u001b[1;32m    266\u001b[0m results \u001b[39m=\u001b[39m parallel(\n\u001b[1;32m    267\u001b[0m     delayed(_fit_and_score)(\n\u001b[1;32m    268\u001b[0m         clone(estimator),\n\u001b[0;32m   (...)\u001b[0m\n\u001b[1;32m    282\u001b[0m     \u001b[39mfor\u001b[39;00m train, test \u001b[39min\u001b[39;00m cv\u001b[39m.\u001b[39msplit(X, y, groups)\n\u001b[1;32m    283\u001b[0m )\n\u001b[0;32m--> 285\u001b[0m _warn_or_raise_about_fit_failures(results, error_score)\n\u001b[1;32m    287\u001b[0m \u001b[39m# For callabe scoring, the return type is only know after calling. If the\u001b[39;00m\n\u001b[1;32m    288\u001b[0m \u001b[39m# return type is a dictionary, the error scores can now be inserted with\u001b[39;00m\n\u001b[1;32m    289\u001b[0m \u001b[39m# the correct key.\u001b[39;00m\n\u001b[1;32m    290\u001b[0m \u001b[39mif\u001b[39;00m callable(scoring):\n",
      "File \u001b[0;32m~/opt/anaconda3/envs/ml/lib/python3.8/site-packages/sklearn/model_selection/_validation.py:367\u001b[0m, in \u001b[0;36m_warn_or_raise_about_fit_failures\u001b[0;34m(results, error_score)\u001b[0m\n\u001b[1;32m    360\u001b[0m \u001b[39mif\u001b[39;00m num_failed_fits \u001b[39m==\u001b[39m num_fits:\n\u001b[1;32m    361\u001b[0m     all_fits_failed_message \u001b[39m=\u001b[39m (\n\u001b[1;32m    362\u001b[0m         \u001b[39mf\u001b[39m\u001b[39m\"\u001b[39m\u001b[39m\\n\u001b[39;00m\u001b[39mAll the \u001b[39m\u001b[39m{\u001b[39;00mnum_fits\u001b[39m}\u001b[39;00m\u001b[39m fits failed.\u001b[39m\u001b[39m\\n\u001b[39;00m\u001b[39m\"\u001b[39m\n\u001b[1;32m    363\u001b[0m         \u001b[39m\"\u001b[39m\u001b[39mIt is very likely that your model is misconfigured.\u001b[39m\u001b[39m\\n\u001b[39;00m\u001b[39m\"\u001b[39m\n\u001b[1;32m    364\u001b[0m         \u001b[39m\"\u001b[39m\u001b[39mYou can try to debug the error by setting error_score=\u001b[39m\u001b[39m'\u001b[39m\u001b[39mraise\u001b[39m\u001b[39m'\u001b[39m\u001b[39m.\u001b[39m\u001b[39m\\n\u001b[39;00m\u001b[39m\\n\u001b[39;00m\u001b[39m\"\u001b[39m\n\u001b[1;32m    365\u001b[0m         \u001b[39mf\u001b[39m\u001b[39m\"\u001b[39m\u001b[39mBelow are more details about the failures:\u001b[39m\u001b[39m\\n\u001b[39;00m\u001b[39m{\u001b[39;00mfit_errors_summary\u001b[39m}\u001b[39;00m\u001b[39m\"\u001b[39m\n\u001b[1;32m    366\u001b[0m     )\n\u001b[0;32m--> 367\u001b[0m     \u001b[39mraise\u001b[39;00m \u001b[39mValueError\u001b[39;00m(all_fits_failed_message)\n\u001b[1;32m    369\u001b[0m \u001b[39melse\u001b[39;00m:\n\u001b[1;32m    370\u001b[0m     some_fits_failed_message \u001b[39m=\u001b[39m (\n\u001b[1;32m    371\u001b[0m         \u001b[39mf\u001b[39m\u001b[39m\"\u001b[39m\u001b[39m\\n\u001b[39;00m\u001b[39m{\u001b[39;00mnum_failed_fits\u001b[39m}\u001b[39;00m\u001b[39m fits failed out of a total of \u001b[39m\u001b[39m{\u001b[39;00mnum_fits\u001b[39m}\u001b[39;00m\u001b[39m.\u001b[39m\u001b[39m\\n\u001b[39;00m\u001b[39m\"\u001b[39m\n\u001b[1;32m    372\u001b[0m         \u001b[39m\"\u001b[39m\u001b[39mThe score on these train-test partitions for these parameters\u001b[39m\u001b[39m\"\u001b[39m\n\u001b[0;32m   (...)\u001b[0m\n\u001b[1;32m    376\u001b[0m         \u001b[39mf\u001b[39m\u001b[39m\"\u001b[39m\u001b[39mBelow are more details about the failures:\u001b[39m\u001b[39m\\n\u001b[39;00m\u001b[39m{\u001b[39;00mfit_errors_summary\u001b[39m}\u001b[39;00m\u001b[39m\"\u001b[39m\n\u001b[1;32m    377\u001b[0m     )\n",
      "\u001b[0;31mValueError\u001b[0m: \nAll the 5 fits failed.\nIt is very likely that your model is misconfigured.\nYou can try to debug the error by setting error_score='raise'.\n\nBelow are more details about the failures:\n--------------------------------------------------------------------------------\n5 fits failed with the following error:\nTraceback (most recent call last):\n  File \"/Users/clarkhu/opt/anaconda3/envs/ml/lib/python3.8/site-packages/sklearn/model_selection/_validation.py\", line 686, in _fit_and_score\n    estimator.fit(X_train, y_train, **fit_params)\n  File \"/Users/clarkhu/opt/anaconda3/envs/ml/lib/python3.8/site-packages/sklearn/ensemble/_forest.py\", line 331, in fit\n    X, y = self._validate_data(\n  File \"/Users/clarkhu/opt/anaconda3/envs/ml/lib/python3.8/site-packages/sklearn/base.py\", line 596, in _validate_data\n    X, y = check_X_y(X, y, **check_params)\n  File \"/Users/clarkhu/opt/anaconda3/envs/ml/lib/python3.8/site-packages/sklearn/utils/validation.py\", line 1074, in check_X_y\n    X = check_array(\n  File \"/Users/clarkhu/opt/anaconda3/envs/ml/lib/python3.8/site-packages/sklearn/utils/validation.py\", line 899, in check_array\n    _assert_all_finite(\n  File \"/Users/clarkhu/opt/anaconda3/envs/ml/lib/python3.8/site-packages/sklearn/utils/validation.py\", line 146, in _assert_all_finite\n    raise ValueError(msg_err)\nValueError: Input X contains NaN.\nRandomForestRegressor does not accept missing values encoded as NaN natively. For supervised learning, you might want to consider sklearn.ensemble.HistGradientBoostingClassifier and Regressor which accept missing values encoded as NaNs natively. Alternatively, it is possible to preprocess the data, for instance by using an imputer transformer in a pipeline or drop samples with missing values. See https://scikit-learn.org/stable/modules/impute.html You can find a list of all estimators that handle NaN values at the following page: https://scikit-learn.org/stable/modules/impute.html#estimators-that-handle-nan-values\n"
     ]
    }
   ],
   "source": [
    "X = [X_missing_mean,X_missing_0, X_missing_reg]\n",
    "\n",
    "mse = []\n",
    "\n",
    "for x in X:\n",
    "    estimator = RandomForestRegressor(random_state=0, n_estimators=100) \n",
    "    scores = cross_val_score(estimator,x,X_missing_mean,scoring=\"neg_mean_squared_error\",cv=5).mean()\n",
    "    mse.append(scores * -1)\n"
   ]
  }
 ],
 "metadata": {
  "kernelspec": {
   "display_name": "ml",
   "language": "python",
   "name": "python3"
  },
  "language_info": {
   "codemirror_mode": {
    "name": "ipython",
    "version": 3
   },
   "file_extension": ".py",
   "mimetype": "text/x-python",
   "name": "python",
   "nbconvert_exporter": "python",
   "pygments_lexer": "ipython3",
   "version": "3.8.13"
  },
  "orig_nbformat": 4,
  "vscode": {
   "interpreter": {
    "hash": "5dafb13e4b6f58b857a75d76bdb469c05d137ecb565f1b307667c72b2cf0b5b5"
   }
  }
 },
 "nbformat": 4,
 "nbformat_minor": 2
}
