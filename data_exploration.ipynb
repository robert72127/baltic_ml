{
 "cells": [
  {
   "cell_type": "markdown",
   "metadata": {
    "colab_type": "text",
    "id": "view-in-github"
   },
   "source": [
    "<a href=\"https://colab.research.google.com/github/wenjie-hoo/baltic_ml/blob/main/baltic.ipynb\" target=\"_parent\"><img src=\"https://colab.research.google.com/assets/colab-badge.svg\" alt=\"Open In Colab\"/></a>"
   ]
  },
  {
   "cell_type": "code",
   "execution_count": null,
   "metadata": {
    "id": "raVLw7M_38On"
   },
   "outputs": [],
   "source": [
    "import matplotlib as mpl\n",
    "import matplotlib.pyplot as plt\n",
    "import numpy as np\n",
    "import os\n",
    "import pandas as pd\n",
    "from zipfile import ZipFile\n",
    "from functools import reduce\n",
    "\n",
    "import seaborn as sns\n",
    "from sklearn.model_selection import train_test_split\n",
    "from sklearn.linear_model import LinearRegression\n",
    "from sklearn.ensemble import RandomForestRegressor\n",
    "from sklearn.neural_network import MLPRegressor\n",
    "from sklearn.preprocessing import StandardScaler\n",
    "from sklearn.metrics import mean_squared_error\n"
   ]
  },
  {
   "cell_type": "code",
   "execution_count": null,
   "metadata": {
    "colab": {
     "base_uri": "https://localhost:8080/"
    },
    "id": "TKokeCJzrxew",
    "outputId": "c90d084d-3229-4ce3-d977-5a8e74c9ea51"
   },
   "outputs": [],
   "source": [
    "!pip install -q gdown httpimport\n",
    "!gdown 'https://github.com/wenjie-hoo/baltic_ml/raw/main/2022.11.07-merged-single-observation.zip'"
   ]
  },
  {
   "cell_type": "code",
   "execution_count": null,
   "metadata": {},
   "outputs": [],
   "source": [
    "zip_file = ZipFile('./2022.11.07-merged-single-observation.zip')\n",
    "dfs = {text_file.filename: pd.read_csv(zip_file.open(text_file.filename))\n",
    "       for text_file in zip_file.infolist()\n",
    "       if text_file.filename.endswith('.csv') and not text_file.filename[37:].startswith('.')}\n",
    "\n",
    "df_list=[]\n",
    "for df in dfs.values():\n",
    "       df['DATE'] = pd.to_datetime(df['DATE'],dayfirst = True)\n",
    "       df_list.append(df)\n",
    "\n",
    "df = reduce(lambda left,right: pd.merge(left.drop_duplicates(subset=['DATE','DEPTH']),right.drop_duplicates(subset=['DATE','DEPTH']),on=['DATE','DEPTH'],how='outer'), df_list)\n",
    "# df.to_csv('xxxxx.csv')\n",
    "df.head"
   ]
  },
  {
   "cell_type": "code",
   "execution_count": null,
   "metadata": {},
   "outputs": [],
   "source": [
    "# df.describe()\n",
    "df.groupby('DATE').mean()['TP'].plot()"
   ]
  },
  {
   "cell_type": "code",
   "execution_count": null,
   "metadata": {},
   "outputs": [],
   "source": [
    "## helpful filters and statistical functions\n",
    "\n",
    "def fix_date_formatting(df):\n",
    "    df['DATE'] = pd.to_datetime(df.DATE, infer_datetime_format=True)\n",
    "    return df\n",
    "\n",
    "def filter_by_months(df, months):\n",
    "    return df[df['DATE'].dt.month == any(months)]\n",
    "\n",
    "def group_by_year(df, par):\n",
    "    df =  df.groupby(df['DATE'].dt.year)[par].mean()\n",
    "    return pd.DataFrame({\"DATE\":df.index, par:df.values})\n",
    "\n",
    "def group_by_date(df, par):\n",
    "    df =  df.groupby(df['DATE'].dt.date)[par].mean()\n",
    "    return pd.DataFrame({\"DATE\":df.index, par:df.values})\n",
    "\n",
    "def group_by_month(df, par):\n",
    "    df = df.drop('DEPTH', axis=1)\n",
    "    df['DATE'] = pd.to_datetime(df['DATE'])\n",
    "    df = df.groupby(pd.Grouper(freq='M', key='DATE')).mean()\n",
    "    df = df.reset_index()\n",
    "    return df\n",
    "\n",
    "def filter_by_depth(df, depth):\n",
    "    df = df.loc[df['DEPTH'] == depth]\n",
    "    return df\n",
    "\n",
    "def filter_by_depth_range(df, low, high):\n",
    "    df = df.loc[low <= df['DEPTH'] <= high]\n",
    "    return df\n",
    "\n",
    "def group_by_depth(df, par):\n",
    "    df =  df.groupby(df['DEPTH'])[par].mean()\n",
    "    return pd.DataFrame({\"DEPTH\":df.index, par:df.values})\n",
    "\n",
    "def drop_outliers(df,param, quantile):\n",
    "    q = df[param].quantile(quantile)\n",
    "    return df[df[param] < q]\n",
    "\n",
    "#return new dataframe with par replaced by it's movign average\n",
    "def moving_averages(df, param, window_size):\n",
    "    _df = df.copy()\n",
    "    _df[param] = df[param].rolling(window=window_size).mean()\n",
    "    return _df\n",
    "\n",
    "def apply_features_transform(df, param, quantile=.95, depth=[2000, 2500], moving_avg_window=6):\n",
    "    df = fix_date_formatting(df)\n",
    "    df = filter_by_depth_range(df, depth[0], depth[1])\n",
    "    #df = df.drop('DEPTH', axis=1)\n",
    "    df = drop_outliers(df, param, quantile)\n",
    "    df = group_by_month(df, param)\n",
    "    df = moving_averages(df, param, moving_avg_window)\n",
    "    #df = group_by_year(df, param)\n",
    "    \n",
    "    return df"
   ]
  },
  {
   "cell_type": "code",
   "execution_count": null,
   "metadata": {},
   "outputs": [],
   "source": [
    "BASE = './2022.11.07-merged-single-observation/'\n",
    "\n",
    "# Chlorophyll a \n",
    "# CHLORA\n",
    "chlora = pd.read_csv(BASE + 'CHLORA.csv', infer_datetime_format=True)\n",
    "chlora = fix_date_formatting(chlora)\n",
    "\n",
    "# Salinity: The amount of salt per amount of a body of water.\n",
    "# CTDSAL\n",
    "ctdsal = pd.read_csv(BASE + 'CTDSAL.csv', infer_datetime_format=True)\n",
    "ctdsal = fix_date_formatting(ctdsal)\n",
    "\n",
    "# Water temperature at measurement depth\n",
    "# CTDTMP\n",
    "ctdtmp = pd.read_csv(BASE + 'CTDTMP.csv', infer_datetime_format=True)\n",
    "ctdtmp = fix_date_formatting(ctdtmp)\n",
    "\n",
    "# Ammonia\n",
    "# NH4\n",
    "NH4 = pd.read_csv(BASE + 'NH4.csv', infer_datetime_format=True)\n",
    "NH4 = fix_date_formatting(NH4)\n",
    "\n",
    "# Nitrite \n",
    "# NO2\n",
    "NO2 = pd.read_csv(BASE + 'NO2.csv', infer_datetime_format=True)\n",
    "NO2 = fix_date_formatting(NO2)\n",
    "\n",
    "# Nitrate \n",
    "# NO3\n",
    "NO3 = pd.read_csv(BASE + 'NO3.csv', infer_datetime_format=True)\n",
    "NO3 = fix_date_formatting(NO3)\n",
    "\n",
    "# Dissolved oxygen  \n",
    "# OXY\n",
    "oxygen = pd.read_csv(BASE + 'OXY.csv', infer_datetime_format=True)\n",
    "oxygen = fix_date_formatting(oxygen)\n",
    "\n",
    "# PH\n",
    "PH = pd.read_csv(BASE + 'PH.csv', infer_datetime_format=True)\n",
    "PH = fix_date_formatting(PH)\n",
    "\n",
    "# Phosphate \n",
    "# PO4\n",
    "PO4 = pd.read_csv(BASE + 'PO4.csv', infer_datetime_format=True)\n",
    "PO4 = fix_date_formatting(PO4)\n",
    "\n",
    "# Used to measure water transparency or turbidity in bodies of water.\n",
    "# The disc is mounted on a pole or line,\n",
    "# and lowered slowly down in the water\n",
    "# SECCHI\n",
    "secchi = pd.read_csv(BASE + 'SECCHI.csv', infer_datetime_format=True)\n",
    "secchi = fix_date_formatting(secchi)\n",
    "\n",
    "# Silicate\n",
    "# SIO2\n",
    "SIO2 = pd.read_csv(BASE + 'SIO2.csv', infer_datetime_format=True)\n",
    "SIO2 = fix_date_formatting(SIO2)\n",
    "\n",
    "# Total nitrogen \n",
    "# TN\n",
    "TN = pd.read_csv(BASE + 'TN.csv', infer_datetime_format=True)\n",
    "TN = fix_date_formatting(TN)\n",
    "\n",
    "# Total phosphorus \n",
    "# TP\n",
    "TP = pd.read_csv(BASE + 'TP.csv', infer_datetime_format=True)\n",
    "TP = fix_date_formatting(TP)"
   ]
  },
  {
   "cell_type": "code",
   "execution_count": null,
   "metadata": {},
   "outputs": [],
   "source": [
    "depths = [ 100, 500, 1000, 1500, 2000, 2500]"
   ]
  },
  {
   "cell_type": "markdown",
   "metadata": {},
   "source": [
    "## Some theory water exchange\n",
    "\n",
    "Baltic sea is  not very salty naturally and it's saltiness levels are dependent on water exchange with global ocean by north sea. which in the case of the Baltic Sea is difficult due to narrow and tight connections (Danish straits)\n",
    "\n",
    "water exchange is super important becouse water from north sea is much saltier, colder and better oxygenated. Those exchanged are happening less and less often. Around 5-7 infusions per 10 years in 70-80's. While only two were observed sice 2000's. Furthermore every day sweet waters from more than 200 rivers are injected into the baltic sea. Which combined can turn baltic sea into freshwater tank.\n",
    "\n",
    "Continuing on water exchange. The less often they occur, the higher  temperature should be. Temperature is one of things that promotes the growth of microorganisms and algae\n"
   ]
  },
  {
   "cell_type": "code",
   "execution_count": null,
   "metadata": {},
   "outputs": [],
   "source": [
    "##TODO plot temperature to check if true best if using mean by season\n",
    "#plot_depth(salinity,'CTDSAL', [4,5,6], 100)\n",
    "df1 = filter_by_depth(ctdtmp, 100)\n",
    "df1 = drop_outliers(df1, 'CTDTMP', .95)\n",
    "df1 = group_by_year(df1, 'CTDTMP')\n",
    "\n",
    "df2 = filter_by_depth(ctdtmp, 500)\n",
    "df2 = drop_outliers(df2, 'CTDTMP', .95)\n",
    "df2 = group_by_year(df2, 'CTDTMP')\n",
    "\n",
    "df3 = filter_by_depth(ctdtmp, 1000)\n",
    "df3 = drop_outliers(df3, 'CTDTMP', .95)\n",
    "df3 = group_by_year(df3, 'CTDTMP')\n",
    "\n",
    "df4 = filter_by_depth(ctdtmp, 2000)\n",
    "df4 = drop_outliers(df4, 'CTDTMP', .95)\n",
    "df4 = group_by_year(df4, 'CTDTMP')\n",
    "\n",
    "#df = filter_by_months(df, [12])\n",
    "\n",
    "#plt.ylim(5, 14)\n",
    "fig, axes = plt.subplots(nrows=2, ncols=2, sharex=True, sharey=True, figsize=(10,6))\n",
    "ax1, ax2, ax3, ax4 = axes.flatten()\n",
    "sns.scatterplot(data=df1, x=\"DATE\", y='CTDTMP', ax = ax1)\n",
    "sns.scatterplot(data=df2, x=\"DATE\", y='CTDTMP', ax = ax2)\n",
    "sns.scatterplot(data=df3, x=\"DATE\", y='CTDTMP', ax = ax3)\n",
    "sns.scatterplot(data=df4, x=\"DATE\", y='CTDTMP', ax = ax4)\n",
    "#plt.ylim(5,15)\n",
    "plt.show()\n"
   ]
  },
  {
   "cell_type": "markdown",
   "metadata": {},
   "source": [
    "## Industrial and agricultural activities\n",
    "\n",
    "Industrial and agricultural activities aruond baltic sea \n",
    "causes the associated nutrient loads to end up in marine waters. Intensive agricultural production requires the use of fertilizers, in addition, farmers produce tons of organic waste, meat plants where thousands of pigs are raised using the mulchless method produce hectoliters of manure with a high content of minerals, especially..\n",
    "#### nitrates\n",
    "now farmers use 10 times less fertilizers than centuries ago, which actually can be seen in data, (visibly less nitrates)"
   ]
  },
  {
   "cell_type": "code",
   "execution_count": null,
   "metadata": {},
   "outputs": [],
   "source": [
    "# TODO plot and analyse nitrates\n",
    "df1 = filter_by_depth(TN, 100)\n",
    "df1 = drop_outliers(df1, 'TN', .98)\n",
    "df1 = group_by_year(df1, 'TN')\n",
    "\n",
    "df2 = filter_by_depth(TN, 500)\n",
    "df2 = drop_outliers(df2, 'TN', .98)\n",
    "df2 = group_by_year(df2, 'TN')\n",
    "\n",
    "df3 = filter_by_depth(TN, 1000)\n",
    "df3 = drop_outliers(df3, 'TN', .98)\n",
    "df3 = group_by_year(df3, 'TN')\n",
    "\n",
    "df4 = filter_by_depth(TN, 2000)\n",
    "df4 = drop_outliers(df4, 'TN', .98)\n",
    "df4 = group_by_year(df4, 'TN')\n",
    "\n",
    "#df = filter_by_months(df, [12])\n",
    "\n",
    "#plt.ylim(5, 14)\n",
    "fig, axes = plt.subplots(nrows=2, ncols=2, sharex=True, sharey=True, figsize=(10,6))\n",
    "ax1, ax2, ax3, ax4 = axes.flatten()\n",
    "sns.scatterplot(data=df1, x=\"DATE\", y='TN', ax = ax1)\n",
    "sns.scatterplot(data=df2, x=\"DATE\", y='TN', ax = ax2)\n",
    "sns.scatterplot(data=df3, x=\"DATE\", y='TN', ax = ax3)\n",
    "sns.scatterplot(data=df4, x=\"DATE\", y='TN', ax = ax4)\n",
    "#plt.ylim(5,15)\n",
    "plt.show()"
   ]
  },
  {
   "cell_type": "code",
   "execution_count": null,
   "metadata": {},
   "outputs": [],
   "source": [
    "# TODO plot and analyse phosphates\n",
    "df1 = filter_by_depth(TP, 100)\n",
    "df1 = drop_outliers(df1, 'TP', .98)\n",
    "df1 = group_by_year(df1, 'TP')\n",
    "\n",
    "df2 = filter_by_depth(TP, 500)\n",
    "df2 = drop_outliers(df2, 'TP', .98)\n",
    "df2 = group_by_year(df2, 'TP')\n",
    "\n",
    "df3 = filter_by_depth(TP, 1000)\n",
    "df3 = drop_outliers(df3, 'TP', .98)\n",
    "df3 = group_by_year(df3, 'TP')\n",
    "\n",
    "df4 = filter_by_depth(TP, 2000)\n",
    "df4 = drop_outliers(df4, 'TP', .98)\n",
    "df4 = group_by_year(df4, 'TP')\n",
    "\n",
    "#df = filter_by_months(df, [12])\n",
    "\n",
    "#plt.ylim(5, 14)\n",
    "fig, axes = plt.subplots(nrows=2, ncols=2, sharex=True, sharey=True, figsize=(10,6))\n",
    "ax1, ax2, ax3, ax4 = axes.flatten()\n",
    "sns.scatterplot(data=df1, x=\"DATE\", y='TP', ax = ax1)\n",
    "sns.scatterplot(data=df2, x=\"DATE\", y='TP', ax = ax2)\n",
    "sns.scatterplot(data=df3, x=\"DATE\", y='TP', ax = ax3)\n",
    "sns.scatterplot(data=df4, x=\"DATE\", y='TP', ax = ax4)\n",
    "#plt.ylim(5,15)\n",
    "plt.show()"
   ]
  },
  {
   "cell_type": "markdown",
   "metadata": {},
   "source": [
    "to much of fertilizers is leading to overfertilization and algae blooms.\n",
    "After war farmers began to use heavy laods of fertilizers causing in better growth of plants. No one was predicting that huge amounts of fertilizers will seep into the groundwater from there to the rivers and then to the sea.\n",
    "\n",
    "And because as we said previously, baltic is badly communcated with global ocean it cleans up slowly\n",
    "\n",
    "Causes of that are heavy growth of algae and cyanobacteria. \n",
    "\n",
    "The worst situation is from July to September, when cyanobateria called cyanobacteria bloom, poisoning the fish and cutting off the light to plants growing on the bottom."
   ]
  },
  {
   "cell_type": "code",
   "execution_count": null,
   "metadata": {},
   "outputs": [],
   "source": [
    "## TODO check disk visbility plot chlora levels, plot disk, visiblity \n",
    "\n",
    "df1 = filter_by_depth(secchi, 100)\n",
    "df1 = drop_outliers(df1, 'SECCHI', .99)\n",
    "df1 = filter_by_months(df1, [7,8,9])\n",
    "#df1 = group_by_year(df1, 'SECCHI')\n",
    "\n",
    "df2 = filter_by_depth(secchi, 500)\n",
    "df2 = drop_outliers(df2, 'SECCHI', .99)\n",
    "df2 = filter_by_months(df2, [7,8,9])\n",
    "#df2 = group_by_year(df2, 'SECCHI')\n",
    "\n",
    "df3 = filter_by_depth(secchi, 1000)\n",
    "df3 = drop_outliers(df3, 'SECCHI', .99)\n",
    "df3 = filter_by_months(df3, [7,8,9])\n",
    "#df3 = group_by_year(df3, 'SECCHI')\n",
    "\n",
    "df4 = filter_by_depth(secchi, 2000)\n",
    "df4 = drop_outliers(df4, 'SECCHI', .99)\n",
    "df4 = filter_by_months(df4, [7,8,9])\n",
    "#df4 = group_by_year(df4, 'SECCHI')\n",
    "\n",
    "#df = filter_by_months(df, [12])\n",
    "\n",
    "#plt.ylim(5, 14)\n",
    "fig, axes = plt.subplots(nrows=2, ncols=2, sharex=True, sharey=True, figsize=(10,6))\n",
    "ax1, ax2, ax3, ax4 = axes.flatten()\n",
    "sns.scatterplot(data=df1, x=\"DATE\", y='SECCHI', ax = ax1)\n",
    "sns.scatterplot(data=df2, x=\"DATE\", y='SECCHI', ax = ax2)\n",
    "sns.scatterplot(data=df3, x=\"DATE\", y='SECCHI', ax = ax3)\n",
    "sns.scatterplot(data=df4, x=\"DATE\", y='SECCHI', ax = ax4)\n",
    "#plt.ylim(5,15)\n",
    "plt.show()\n",
    "\n",
    "#ok there seems to be less light based on disk visibility"
   ]
  },
  {
   "cell_type": "markdown",
   "metadata": {},
   "source": [
    "## OXYGEN\n",
    "\n",
    "### Continuing on problems we explained \n",
    "\n",
    "(in general)  Dissolved oxygen comes from air and partialy from photosynthesis \n",
    "(this is a general theory because the one in the baltic, as has already been said, should also be injected from the northern sea)\n",
    "\n",
    "Increased eutrophication and climate change as a result of human economic activities contribute to the formation of dead zones. Where \n",
    "### Oxygen\n",
    "is lacking encapsulated phosphorus is released from bottom sediments and further increases the concentration of nutrients"
   ]
  },
  {
   "cell_type": "code",
   "execution_count": null,
   "metadata": {},
   "outputs": [],
   "source": [
    "## plot oxygen, plot phoshorus levels and micronutrients\n",
    "# TODO plot and analyse nitrates\n",
    "df1 = filter_by_depth(oxygen, 100)\n",
    "df1 = drop_outliers(df1, 'OXY', .99)\n",
    "df1 = filter_by_months(df1, [7,8,9])\n",
    "#df1 = group_by_year(df1, 'OXY')\n",
    "\n",
    "df2 = filter_by_depth(oxygen, 1000)\n",
    "df2 = drop_outliers(df2, 'OXY', .99)\n",
    "df2 = filter_by_months(df2, [7,8,9])\n",
    "#df2 = group_by_year(df2, 'OXY')\n",
    "\n",
    "df3 = filter_by_depth(oxygen, 1500)\n",
    "df3 = drop_outliers(df3, 'OXY', .99)\n",
    "df3 = filter_by_months(df3, [7,8,9])\n",
    "#df3 = group_by_year(df3, 'OXY')\n",
    "\n",
    "df4 = filter_by_depth(oxygen, 2000)\n",
    "df4 = drop_outliers(df4, 'OXY', .99)\n",
    "df4 = filter_by_months(df4, [7,8,9])\n",
    "#df4 = group_by_year(df4, 'OXY')\n",
    "\n",
    "\n",
    "#plt.ylim(5, 14)\n",
    "fig, axes = plt.subplots(nrows=2, ncols=2, sharex=True, sharey=True, figsize=(10,6))\n",
    "ax1, ax2, ax3, ax4 = axes.flatten()\n",
    "sns.scatterplot(data=df1, x=\"DATE\", y='OXY', ax = ax1)\n",
    "sns.scatterplot(data=df2, x=\"DATE\", y='OXY', ax = ax2)\n",
    "sns.scatterplot(data=df3, x=\"DATE\", y='OXY', ax = ax3)\n",
    "sns.scatterplot(data=df4, x=\"DATE\", y='OXY', ax = ax4)\n",
    "#plt.ylim(5,15)\n",
    "plt.show()"
   ]
  },
  {
   "cell_type": "markdown",
   "metadata": {},
   "source": [
    "As their amount grow and the water heats up, the algae develops faster and the water blooms more intensively.\n",
    "\n",
    "### Further info on chlora and oxygen\n",
    "\n",
    "Oxygen is used to decompose organic matter that settles to the bottom. Lacking oxygen which should be delivered by north sea there is no regeneration process. \n",
    "\n",
    "Oxygen is also essential for marine organisms. At least 6 mg/l dissolved oxygen is needed for life. On the surface of the open Baltic Sea it is about 11 mg/l, but it is worse at the bottom, where hypoxia is recorded as low as 2 mg/l."
   ]
  },
  {
   "cell_type": "markdown",
   "metadata": {},
   "source": [
    "Degradation began at the beginning of the 20th century, even a hundred years ago there were zones with reduced oxygen content, but in the last century they appeared 12 times more.\n",
    "\n",
    "furthermore \n",
    "### phytoplankton\n",
    "\n",
    "whose development is fostered by the above-mentioned agricultural processes leads to the formation of large amounts of plant debris falling to the bottom there itself feeding microorganisms that take oxygen away from fish and other animals. When the resources are used up, anaerobic bacteria appear, causing rotting processes and emitting poisonous hydrogen sulfide, which turns the water at the bottom into stinking mud.\n"
   ]
  },
  {
   "cell_type": "markdown",
   "metadata": {},
   "source": [
    "Side note \n",
    "\n",
    "Another problem you hear about are the tons of sunken munitions and chemical weapons left over from the 2nd Swastika War (about 50,000 tons) including sulfur mustard. Fortunately, they are in the form of a very poorly water-soluble thick slurry, so left alone they do not pose much of a threat.\n",
    "\n",
    "##### some reference\n",
    "https://www.teraz-srodowisko.pl/aktualnosci/Baltyk-eutrofizacja-morski-ekosystem-rolnictwo-scieki-11653.html\n",
    "https://www.newsweek.pl/zdrowie-i-nauka/nauka/morze-baltyckie-zmienia-sie-w-zielone-pelne-szlamu-bajoro/6fews3b\n",
    "https://ekoagora.pl/wp-content/uploads/2021/05/PL-APC-40-3.pdf"
   ]
  },
  {
   "cell_type": "code",
   "execution_count": null,
   "metadata": {},
   "outputs": [],
   "source": [
    "zip_file = ZipFile('./2022.11.07-merged-single-observation.zip')\n",
    "dfs = {text_file.filename: pd.read_csv(zip_file.open(text_file.filename))\n",
    "       for text_file in zip_file.infolist()\n",
    "       if text_file.filename.endswith('.csv') and not text_file.filename[37:].startswith('.')}\n",
    "\n",
    "df_list=[]\n",
    "for df in dfs.values():\n",
    "       df['DATE'] = pd.to_datetime(df['DATE'],dayfirst = True)\n",
    "       df_list.append(df)\n",
    "\n",
    "df = reduce(lambda left,right: pd.merge(left.drop_duplicates(subset=['DATE','DEPTH']),right.drop_duplicates(subset=['DATE','DEPTH']),on=['DATE','DEPTH'],how='outer'), df_list)\n",
    "# df.to_csv('xxxxx.csv')\n",
    "df.head"
   ]
  },
  {
   "cell_type": "markdown",
   "metadata": {},
   "source": [
    "## Correlation"
   ]
  },
  {
   "cell_type": "code",
   "execution_count": null,
   "metadata": {},
   "outputs": [],
   "source": [
    "dfi = df\n",
    "dfi = dfi.drop('DEPTH', axis=1)\n",
    "fig = plt.figure(figsize=(15,15))\n",
    "sns.heatmap(dfi.corr(),vmax=1, annot=True, linewidths=0.5, cbar=False, cmap='YlGnBu',annot_kws={'fontsize':14})\n",
    "plt.xticks(fontsize=14)\n",
    "plt.yticks(fontsize=14)\n",
    "plt.title('xx',fontsize=14)\n",
    "plt.show()"
   ]
  },
  {
   "cell_type": "code",
   "execution_count": null,
   "metadata": {},
   "outputs": [],
   "source": [
    "dfi = df\n",
    "dfi.dropna(inplace=True)\n",
    "dfi = dfi.drop('DEPTH', axis=1)\n",
    "fig = plt.figure(figsize=(15,15))\n",
    "sns.heatmap(dfi.corr(),vmax=1, annot=True, linewidths=0.5, cbar=False, cmap='YlGnBu',annot_kws={'fontsize':18})\n",
    "plt.xticks(fontsize=14)\n",
    "plt.yticks(fontsize=14)\n",
    "plt.title('xx',fontsize=14)\n",
    "plt.show()"
   ]
  },
  {
   "cell_type": "markdown",
   "metadata": {},
   "source": [
    "## By depth"
   ]
  },
  {
   "cell_type": "code",
   "execution_count": null,
   "metadata": {
    "scrolled": true
   },
   "outputs": [],
   "source": [
    "\n",
    "for i in depths:\n",
    "    dfi = filter_by_depth(df, i)\n",
    "    dfi = dfi.drop('DEPTH', axis=1)\n",
    "    fig = plt.figure(figsize=(15,15))\n",
    "    sns.heatmap(dfi.corr(),vmax=1, annot=True, linewidths=0.5, cbar=False, cmap='YlGnBu',annot_kws={'fontsize':14})\n",
    "    plt.xticks(fontsize=14)\n",
    "    plt.yticks(fontsize=14)\n",
    "    plt.title('xx',fontsize=14)\n",
    "    plt.title(f\"depth : {i}\")\n",
    "    plt.show()"
   ]
  },
  {
   "cell_type": "markdown",
   "metadata": {},
   "source": [
    "## Exploring correlations found in data further"
   ]
  },
  {
   "cell_type": "code",
   "execution_count": null,
   "metadata": {},
   "outputs": [],
   "source": [
    "def plot_params(df, parameter1, parameter2, depths, quant=.95):\n",
    "    for i in depths:\n",
    "            df_ = filter_by_depth(df,i)\n",
    "            df_ = drop_outliers(df_, parameter1, quant)\n",
    "            df_ = drop_outliers(df_, parameter2, quant)\n",
    "            \n",
    "            plt.figure(figsize=(12,8))\n",
    "            plt.subplot(2,2,1)\n",
    "            sns.scatterplot(data=df_, x=parameter1, y=parameter2)\n",
    "            plt.title(f'{parameter1} & {parameter2} \\n DEPTH: {i}')\n"
   ]
  },
  {
   "cell_type": "code",
   "execution_count": null,
   "metadata": {},
   "outputs": [],
   "source": [
    "\n",
    "plot_params(df, 'NO2', 'NH4', [100,500,1000])\n",
    "plot_params(df, 'NO3', 'NH4', [100,500])\n",
    "plot_params(df, 'NO3', 'NO2', [100,500,1000,1500])\n",
    "plot_params(df, 'OXY', 'CHLORA', [100])\n",
    "plot_params(df, 'OXY', 'CTDTMP', [100,500,1000])\n",
    "\n",
    "plot_params(df, 'OXY', 'SECCHI', [100])\n",
    "plot_params(df, 'OXY', 'CTDTMP', [2000])\n",
    "plot_params(df, 'OXY', 'SIO2', [2000,2500])\n",
    "plot_params(df, 'OXY', 'PO4', [2000,2500])\n",
    "plot_params(df, 'OXY', 'TP', [2500])\n",
    "plot_params(df, 'PO4', 'NH4', [100,500,1000])\n",
    "plot_params(df, 'PO4', 'NO2', [100,1000])\n",
    "plot_params(df, 'PO4', 'NO3', [100,500,1000])\n",
    "plot_params(df, 'PO4', 'SIO2', [2000])\n",
    "plot_params(df, 'TP', 'SIO2', [100,500,1000,1500,2000,2500])\n",
    "plot_params(df, 'TP', 'PO4', [100,500,1000,1500,2000,2500])\n",
    "plot_params(df, 'TP', 'CTDSAL', [1000])\n",
    "plot_params(df, 'TP', 'NH4', [1000])\n",
    "plot_params(df, 'TP', 'NO2', [1000])\n",
    "plot_params(df, 'TP', 'CTDTMP', [2500])\n",
    "plot_params(df, 'SECCHI', 'CTDTMP', [2000])\n",
    "plot_params(df, 'TN', 'NH4', [2500])\n"
   ]
  },
  {
   "cell_type": "markdown",
   "metadata": {},
   "source": [
    "### SUMMARY:\n",
    " NO3 & NO2 visible linear correlation, no surprise\n",
    " \n",
    " OXY & CTDTMP visible negative linear correlation  it's just water property\n",
    " \n",
    " OXY & SIO2 could be interesting\n",
    " \n",
    " OXY & PO4 also interesting\n",
    " \n",
    " TP & SIO2 also interesting\n",
    " \n",
    " TP & PO4 visible linear correlation, no surprise"
   ]
  },
  {
   "cell_type": "markdown",
   "metadata": {},
   "source": [
    "## Measure average by depth discarding date"
   ]
  },
  {
   "cell_type": "code",
   "execution_count": null,
   "metadata": {},
   "outputs": [],
   "source": [
    "chlora_by_depth = group_by_depth(chlora, 'CHLORA')\n",
    "sns.scatterplot(data=chlora_by_depth, x=\"DEPTH\", y='CHLORA')"
   ]
  },
  {
   "cell_type": "code",
   "execution_count": null,
   "metadata": {},
   "outputs": [],
   "source": [
    "ctdsal_by_depth = group_by_depth(ctdsal, 'CTDSAL')\n",
    "sns.scatterplot(data=ctdsal_by_depth, x=\"DEPTH\", y='CTDSAL')"
   ]
  },
  {
   "cell_type": "code",
   "execution_count": null,
   "metadata": {},
   "outputs": [],
   "source": [
    "ctdtmp_by_depth = group_by_depth(ctdtmp, 'CTDTMP')\n",
    "sns.scatterplot(data=ctdtmp_by_depth, x=\"DEPTH\", y='CTDTMP')"
   ]
  },
  {
   "cell_type": "code",
   "execution_count": null,
   "metadata": {},
   "outputs": [],
   "source": [
    "ammonia_by_depth = group_by_depth(NH4, 'NH4')\n",
    "sns.scatterplot(data=ammonia_by_depth, x=\"DEPTH\", y='NH4')"
   ]
  },
  {
   "cell_type": "code",
   "execution_count": null,
   "metadata": {},
   "outputs": [],
   "source": [
    "nitrogen_by_depth = group_by_depth(NO2, 'NO2')\n",
    "sns.scatterplot(data = nitrogen_by_depth, x=\"DEPTH\", y='NO2')"
   ]
  },
  {
   "cell_type": "code",
   "execution_count": null,
   "metadata": {},
   "outputs": [],
   "source": [
    "nitrate_by_depth = group_by_depth(NO3, 'NO3')\n",
    "sns.scatterplot(data=nitrate_by_depth, x=\"DEPTH\", y='NO3')"
   ]
  },
  {
   "cell_type": "code",
   "execution_count": null,
   "metadata": {},
   "outputs": [],
   "source": [
    "oxygen_by_depth = group_by_depth(oxygen, 'OXY')\n",
    "sns.scatterplot(data=oxygen_by_depth, x=\"DEPTH\", y='OXY')"
   ]
  },
  {
   "cell_type": "code",
   "execution_count": null,
   "metadata": {},
   "outputs": [],
   "source": [
    "ph_by_depth = group_by_depth(PH, 'PH')\n",
    "sns.scatterplot(data=ph_by_depth, x=\"DEPTH\", y='PH')"
   ]
  },
  {
   "cell_type": "code",
   "execution_count": null,
   "metadata": {},
   "outputs": [],
   "source": [
    "phosphate_by_depth = group_by_depth(PO4, 'PO4')\n",
    "sns.scatterplot(data=phosphate_by_depth, x=\"DEPTH\", y='PO4')"
   ]
  },
  {
   "cell_type": "code",
   "execution_count": null,
   "metadata": {},
   "outputs": [],
   "source": [
    "secchi_by_depth = group_by_depth(secchi, 'SECCHI')\n",
    "sns.scatterplot(data=secchi_by_depth, x=\"DEPTH\", y='SECCHI')"
   ]
  },
  {
   "cell_type": "code",
   "execution_count": null,
   "metadata": {},
   "outputs": [],
   "source": [
    "silicon_by_depth = group_by_depth(SIO2, 'SIO2')\n",
    "sns.scatterplot(data=silicon_by_depth, x=\"DEPTH\", y='SIO2')"
   ]
  },
  {
   "cell_type": "code",
   "execution_count": null,
   "metadata": {},
   "outputs": [],
   "source": [
    "nitrogen_by_depth = group_by_depth(TN, 'TN')\n",
    "sns.scatterplot(data=nitrogen_by_depth, x=\"DEPTH\", y='TN')"
   ]
  },
  {
   "cell_type": "code",
   "execution_count": null,
   "metadata": {},
   "outputs": [],
   "source": [
    "phosphorus_by_depth = group_by_depth(TP, 'TP')\n",
    "sns.scatterplot(data=phosphorus_by_depth, x=\"DEPTH\", y='TP')"
   ]
  },
  {
   "cell_type": "code",
   "execution_count": null,
   "metadata": {
    "scrolled": true
   },
   "outputs": [],
   "source": [
    "# plot parameter from df by different months and deepths to search manually\n",
    "def check_manualy(df, parameter, quant=.99):\n",
    "    for i in depths:\n",
    "        for j in range(1,13):\n",
    "            df_ = drop_outliers(df, parameter, quant)\n",
    "            df_ = filter_by_depth(df_,i)\n",
    "            df_ = filter_by_months(df_, [j])\n",
    "            #df.groupby('DATE').mean()['TP'].plot()\n",
    "            plt.title(f\"month : {j}  depth : {i}\")\n",
    "            sns.scatterplot(data=df_, x=\"DATE\", y=parameter)\n",
    "            plt.pause(0.05)\n",
    "\n",
    "def check_yearly(df, parameter, quant=.99):\n",
    "    for i in depths:\n",
    "        df_ = filter_by_depth(df,i)\n",
    "        df_ = group_by_year(df_, parameter)\n",
    "        plt.title(f\"depth : {i}\")\n",
    "        sns.scatterplot(data=df_, x=\"DATE\", y=parameter)\n",
    "        plt.pause(0.05)"
   ]
  },
  {
   "cell_type": "markdown",
   "metadata": {},
   "source": [
    "# now let's see which parameters changed by date"
   ]
  },
  {
   "cell_type": "markdown",
   "metadata": {},
   "source": [
    "## CHLORA, seems to be decreasing looking at yearly avg"
   ]
  },
  {
   "cell_type": "code",
   "execution_count": null,
   "metadata": {},
   "outputs": [],
   "source": [
    "check_manualy(chlora, 'CHLORA')"
   ]
  },
  {
   "cell_type": "code",
   "execution_count": null,
   "metadata": {
    "scrolled": true
   },
   "outputs": [],
   "source": [
    "\n",
    "check_yearly(chlora, 'CHLORA')"
   ]
  },
  {
   "cell_type": "markdown",
   "metadata": {},
   "source": [
    "## Salinity seems to be increasing at 1km and above looking at monthly's"
   ]
  },
  {
   "cell_type": "code",
   "execution_count": null,
   "metadata": {},
   "outputs": [],
   "source": [
    "check_manualy(ctdsal, 'CTDSAL')"
   ]
  },
  {
   "cell_type": "code",
   "execution_count": null,
   "metadata": {
    "scrolled": true
   },
   "outputs": [],
   "source": [
    "check_yearly(ctdsal, 'CTDSAL')"
   ]
  },
  {
   "cell_type": "markdown",
   "metadata": {},
   "source": [
    "## Water temperature at measurement depth, increasing"
   ]
  },
  {
   "cell_type": "code",
   "execution_count": null,
   "metadata": {},
   "outputs": [],
   "source": [
    "check_manualy(ctdtmp, 'CTDTMP')"
   ]
  },
  {
   "cell_type": "code",
   "execution_count": null,
   "metadata": {
    "scrolled": true
   },
   "outputs": [],
   "source": [
    "check_yearly(ctdtmp, 'CTDTMP')"
   ]
  },
  {
   "cell_type": "markdown",
   "metadata": {},
   "source": [
    "## Ammonia decreasing since around 1995, increasing by a bit before"
   ]
  },
  {
   "cell_type": "code",
   "execution_count": null,
   "metadata": {},
   "outputs": [],
   "source": [
    "check_manualy(NH4, 'NH4')"
   ]
  },
  {
   "cell_type": "code",
   "execution_count": null,
   "metadata": {
    "scrolled": true
   },
   "outputs": [],
   "source": [
    "check_yearly(NH4, 'NH4')"
   ]
  },
  {
   "cell_type": "markdown",
   "metadata": {},
   "source": [
    "## Nitrogen dioxide, decreasing"
   ]
  },
  {
   "cell_type": "code",
   "execution_count": null,
   "metadata": {},
   "outputs": [],
   "source": [
    "check_manualy(NO2, 'NO2')"
   ]
  },
  {
   "cell_type": "code",
   "execution_count": null,
   "metadata": {
    "scrolled": true
   },
   "outputs": [],
   "source": [
    "check_yearly(NO2, 'NO2')"
   ]
  },
  {
   "cell_type": "markdown",
   "metadata": {},
   "source": [
    "## Nitrate decreasing"
   ]
  },
  {
   "cell_type": "code",
   "execution_count": null,
   "metadata": {},
   "outputs": [],
   "source": [
    "check_manualy(NO3, 'NO3')"
   ]
  },
  {
   "cell_type": "code",
   "execution_count": null,
   "metadata": {
    "scrolled": true
   },
   "outputs": [],
   "source": [
    "check_yearly(NO3, 'NO3')"
   ]
  },
  {
   "cell_type": "markdown",
   "metadata": {},
   "source": [
    "## Dissolved oxygen, decreasing till 2010 at 2,5 km above still decreasing"
   ]
  },
  {
   "cell_type": "code",
   "execution_count": null,
   "metadata": {},
   "outputs": [],
   "source": [
    "check_manualy(oxygen, 'OXY')"
   ]
  },
  {
   "cell_type": "code",
   "execution_count": null,
   "metadata": {
    "scrolled": true
   },
   "outputs": [],
   "source": [
    "check_yearly(oxygen, 'OXY')"
   ]
  },
  {
   "cell_type": "markdown",
   "metadata": {},
   "source": [
    "## PH, hard to tell, no changes prob."
   ]
  },
  {
   "cell_type": "code",
   "execution_count": null,
   "metadata": {},
   "outputs": [],
   "source": [
    "check_manualy(PH, 'PH')"
   ]
  },
  {
   "cell_type": "code",
   "execution_count": null,
   "metadata": {
    "scrolled": true
   },
   "outputs": [],
   "source": [
    "check_yearly(PH, 'PH')"
   ]
  },
  {
   "cell_type": "markdown",
   "metadata": {},
   "source": [
    "## Phosphate increasing till around 1990 then started decreasing, at 2km and above, decreasing below\n"
   ]
  },
  {
   "cell_type": "code",
   "execution_count": null,
   "metadata": {},
   "outputs": [],
   "source": [
    "check_manualy(PO4,'PO4')\n",
    "\n",
    "check_yearly(PO4, 'PO4')"
   ]
  },
  {
   "cell_type": "markdown",
   "metadata": {},
   "source": [
    "## SECCHI decreasing"
   ]
  },
  {
   "cell_type": "code",
   "execution_count": null,
   "metadata": {},
   "outputs": [],
   "source": [
    "check_manualy(secchi, 'SECCHI')"
   ]
  },
  {
   "cell_type": "code",
   "execution_count": null,
   "metadata": {
    "scrolled": true
   },
   "outputs": [],
   "source": [
    "check_yearly(secchi, 'SECCHI')"
   ]
  },
  {
   "cell_type": "markdown",
   "metadata": {},
   "source": [
    "## SILICATE, visible pattern at 2,5 km  increasing till around 2008 then decreasing, hard to tell at other depths"
   ]
  },
  {
   "cell_type": "code",
   "execution_count": null,
   "metadata": {},
   "outputs": [],
   "source": [
    "check_manualy(SIO2, 'SIO2')"
   ]
  },
  {
   "cell_type": "code",
   "execution_count": null,
   "metadata": {
    "scrolled": true
   },
   "outputs": [],
   "source": [
    "check_yearly(SIO2, 'SIO2')"
   ]
  },
  {
   "cell_type": "markdown",
   "metadata": {},
   "source": [
    "## Total nitrogen, clear pattern of droping since around 2010 at each depth"
   ]
  },
  {
   "cell_type": "code",
   "execution_count": null,
   "metadata": {},
   "outputs": [],
   "source": [
    "check_manualy(TN, 'TN')"
   ]
  },
  {
   "cell_type": "code",
   "execution_count": null,
   "metadata": {
    "scrolled": true
   },
   "outputs": [],
   "source": [
    "check_yearly(TN, 'TN')"
   ]
  },
  {
   "cell_type": "markdown",
   "metadata": {},
   "source": [
    "## Total phosphorus looks rather constant"
   ]
  },
  {
   "cell_type": "code",
   "execution_count": null,
   "metadata": {
    "scrolled": true
   },
   "outputs": [],
   "source": [
    "check_manualy(TP, 'TP')"
   ]
  },
  {
   "cell_type": "code",
   "execution_count": null,
   "metadata": {
    "scrolled": true
   },
   "outputs": [],
   "source": [
    "check_yearly(TP, 'TP')"
   ]
  },
  {
   "cell_type": "code",
   "execution_count": null,
   "metadata": {},
   "outputs": [],
   "source": []
  }
 ],
 "metadata": {
  "colab": {
   "authorship_tag": "ABX9TyOpQGitflqIJpAIhnc0axYT",
   "include_colab_link": true,
   "provenance": []
  },
  "kernelspec": {
   "display_name": "Python 3 (ipykernel)",
   "language": "python",
   "name": "python3"
  },
  "language_info": {
   "codemirror_mode": {
    "name": "ipython",
    "version": 3
   },
   "file_extension": ".py",
   "mimetype": "text/x-python",
   "name": "python",
   "nbconvert_exporter": "python",
   "pygments_lexer": "ipython3",
   "version": "3.9.12"
  }
 },
 "nbformat": 4,
 "nbformat_minor": 1
}
