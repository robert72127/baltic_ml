{
 "cells": [
  {
   "cell_type": "code",
   "execution_count": null,
   "id": "fc79c592",
   "metadata": {},
   "outputs": [],
   "source": [
    "import matplotlib as mpl\n",
    "import matplotlib.pyplot as plt\n",
    "import numpy as np\n",
    "import os\n",
    "import pandas as pd\n",
    "from zipfile import ZipFile\n",
    "from functools import reduce\n",
    "\n",
    "import seaborn as sns\n",
    "from sklearn.model_selection import train_test_split\n",
    "from sklearn.linear_model import LinearRegression\n",
    "from sklearn.ensemble import RandomForestRegressor\n",
    "from sklearn.neural_network import MLPRegressor\n",
    "from sklearn.preprocessing import StandardScaler\n",
    "from sklearn.metrics import mean_squared_error"
   ]
  },
  {
   "cell_type": "code",
   "execution_count": null,
   "id": "d5af33ea",
   "metadata": {},
   "outputs": [],
   "source": [
    "!pip install -q gdown httpimport\n",
    "!gdown 'https://github.com/wenjie-hoo/baltic_ml/raw/main/2022.11.07-merged-single-observation.zip'"
   ]
  },
  {
   "cell_type": "code",
   "execution_count": null,
   "id": "e2a25ec8",
   "metadata": {},
   "outputs": [],
   "source": [
    "zip_file = ZipFile('./2022.11.07-merged-single-observation.zip')\n",
    "dfs = {text_file.filename: pd.read_csv(zip_file.open(text_file.filename))\n",
    "       for text_file in zip_file.infolist()\n",
    "       if text_file.filename.endswith('.csv') and not text_file.filename[37:].startswith('.')}\n",
    "\n",
    "df_list=[]\n",
    "for df in dfs.values():\n",
    "       df['DATE'] = pd.to_datetime(df['DATE'],dayfirst = True)\n",
    "       df_list.append(df)\n",
    "\n",
    "df = reduce(lambda left,right: pd.merge(left.drop_duplicates(subset=['DATE','DEPTH']),right.drop_duplicates(subset=['DATE','DEPTH']),on=['DATE','DEPTH'],how='outer'), df_list)\n",
    "# df.to_csv('xxxxx.csv')\n",
    "# df.head"
   ]
  },
  {
   "cell_type": "code",
   "execution_count": null,
   "id": "850d8bcc",
   "metadata": {},
   "outputs": [],
   "source": [
    "# Fill in missing data\n",
    "for i in df.columns:\n",
    "    df[i].fillna(df[i].mean(), inplace=True)"
   ]
  },
  {
   "cell_type": "code",
   "execution_count": null,
   "id": "5b464056",
   "metadata": {},
   "outputs": [],
   "source": [
    "df.dropna(inplace=True)\n",
    "fig = plt.figure(figsize=(10,10))\n",
    "sns.heatmap(df.corr(),vmax=1, annot=True, linewidths=0.5, cbar=False, cmap='YlGnBu',annot_kws={'fontsize':10})\n",
    "plt.xticks(fontsize=10)\n",
    "plt.yticks(fontsize=10)\n",
    "plt.title('heatmap',fontsize=10)\n",
    "plt.show()"
   ]
  },
  {
   "cell_type": "code",
   "execution_count": null,
   "id": "97980381",
   "metadata": {},
   "outputs": [],
   "source": [
    "X = df.drop(['DATE','OXY','TP','NO2'],axis=1)\n",
    "y = df[['OXY','TP','NO2']]\n",
    "x_train, x_test, y_train, y_test = train_test_split(X, y, test_size=0.2, random_state=42)"
   ]
  },
  {
   "cell_type": "code",
   "execution_count": null,
   "id": "5f996189",
   "metadata": {},
   "outputs": [],
   "source": [
    "x_train['PO4']  = x_train['PO4'] * 0.5\n",
    "# x_train['TP']  = x_train['TP'] * 0.5\n",
    "x_train['TN']  = x_train['TN'] * 0.5\n",
    "x_train['SIO2']  = x_train['SIO2'] * 0.8"
   ]
  },
  {
   "cell_type": "code",
   "execution_count": null,
   "id": "708a446a",
   "metadata": {},
   "outputs": [],
   "source": [
    "scaler = StandardScaler(with_mean = True, with_std = True)\n",
    "scaler.fit(x_train)\n",
    "norm_X = scaler.transform(x_train)\n",
    "norm_X_test = scaler.transform(x_test)"
   ]
  },
  {
   "cell_type": "code",
   "execution_count": null,
   "id": "24ba1380",
   "metadata": {},
   "outputs": [],
   "source": [
    "# linear regression\n",
    "lg = LinearRegression()\n",
    "lg.fit(norm_X, y_train)\n",
    "y_pred = lg.predict(norm_X_test)\n",
    "print(mean_squared_error(y_test,y_pred))"
   ]
  },
  {
   "cell_type": "code",
   "execution_count": null,
   "id": "4952631d",
   "metadata": {},
   "outputs": [],
   "source": [
    "# neural netword\n",
    "mlp = MLPRegressor(activation='logistic', hidden_layer_sizes=(2,2), solver='sgd', max_iter=3000)\n",
    "mlp.fit(norm_X,y_train)\n",
    "y_pred = mlp.predict(norm_X_test)\n",
    "print(mean_squared_error(y_test, y_pred))"
   ]
  },
  {
   "cell_type": "code",
   "execution_count": null,
   "id": "8c19b310",
   "metadata": {},
   "outputs": [],
   "source": [
    "# random forest \n",
    "rfr = RandomForestRegressor(random_state=0)\n",
    "rfr.fit(norm_X, y_train)\n",
    "y_pred = rfr.predict(norm_X_test)\n",
    "print(mean_squared_error(y_test, y_pred))"
   ]
  },
  {
   "cell_type": "code",
   "execution_count": null,
   "id": "84579946",
   "metadata": {},
   "outputs": [],
   "source": [
    "feat_lebels = x_train.columns[0:]\n",
    "importances  = rfr.feature_importances_\n",
    "indices = np.argsort(importances)[::-1]\n",
    "index_list = []\n",
    "value_list = []\n",
    "for i,j in zip(range(x_train.shape[1]-1),indices):\n",
    "    index_list.append(feat_lebels[j])\n",
    "    value_list.append(importances[j])\n",
    "    print(i+1, feat_lebels[j], importances[j])\n",
    "\n",
    "plt.figure(figsize=(10,6))\n",
    "plt.barh(index_list[::-1],value_list[::-1])\n",
    "plt.yticks(fontsize = 12)\n",
    "plt.title('feature',fontsize = 14)\n",
    "plt.show()"
   ]
  },
  {
   "cell_type": "code",
   "execution_count": null,
   "id": "90b21635",
   "metadata": {},
   "outputs": [],
   "source": [
    "# find best parameters\n",
    "from sklearn.model_selection import GridSearchCV\n",
    "\n",
    "param_grid = {\n",
    "    'n_estimators':[150,200,300],\n",
    "    'min_samples_split':[2,3,5],\n",
    "    'min_samples_leaf':[1,2,3]\n",
    "}\n",
    "grid_seach_rf= GridSearchCV(estimator=RandomForestRegressor(random_state=0),param_grid=param_grid, scoring='neg_mean_squared_error', cv = 5)\n",
    "grid_seach_rf.fit(norm_X, y_train)\n",
    "print(grid_seach_rf.best_params_)"
   ]
  },
  {
   "cell_type": "code",
   "execution_count": null,
   "id": "27604b1f",
   "metadata": {},
   "outputs": [],
   "source": [
    "# model\n",
    "rfr_ = RandomForestRegressor(n_estimators=150, min_samples_leaf=1, min_samples_split=2, random_state=0)\n",
    "rfr_.fit(norm_X, y_train)\n",
    "y_pred = rfr_.predict(norm_X_test)\n",
    "print(mean_squared_error(y_test, y_pred))\n",
    "y_pred.shape"
   ]
  },
  {
   "cell_type": "code",
   "execution_count": null,
   "id": "14130008",
   "metadata": {},
   "outputs": [],
   "source": [
    "# score\n",
    "\n",
    "from sklearn.metrics import r2_score\n",
    "regressor = RandomForestRegressor(n_estimators=100, min_samples_leaf=5)\n",
    "regressor.fit(norm_X, y_train) \n",
    "y_pred = regressor.predict(norm_X_test)\n",
    "print('sklearn score:{}'.format(r2_score(y_test, y_pred)))  \n",
    "\n",
    "errors = abs(y_pred - y_test)\n",
    "# Print out the mean absolute error (mae)\n",
    "print('Mean Absolute Error:\\n', np.round(np.mean(errors), 2), 'degrees.')\n",
    "mape = 100 * (errors / y_test)\n",
    "accuracy = 100 - np.mean(mape)\n",
    "print('Accuracy:\\n', round(accuracy, 2), '%.')\n"
   ]
  },
  {
   "cell_type": "code",
   "execution_count": null,
   "id": "a92f50d2",
   "metadata": {},
   "outputs": [],
   "source": [
    "col = y_pred.shape[0]\n",
    "y_pred = pd.DataFrame(y_pred[-col:], index=range(col), columns=['OXY','TP','NO2'])"
   ]
  },
  {
   "cell_type": "code",
   "execution_count": null,
   "id": "bb12210f",
   "metadata": {},
   "outputs": [],
   "source": [
    "plt.figure(figsize=(20, 5))\n",
    "plt.plot([i for i in range(y_test.shape[0])], y_test['OXY'], color='red', alpha=0.8, label=\"OXY_test\")\n",
    "plt.plot([i for i in range(y_test.shape[0])], y_pred['OXY'], color='blue', alpha=0.8, label=\"OXY_pred\")\n",
    "plt.legend(loc=\"upper right\")\n",
    "plt.title(\"OXY\")\n",
    "plt.show()"
   ]
  },
  {
   "cell_type": "code",
   "execution_count": null,
   "id": "7466cc77",
   "metadata": {},
   "outputs": [],
   "source": [
    "errors = abs(y_pred - y_test)\n",
    "print('Mean Absolute Error:\\n', np.round(np.mean(errors), 2), 'degrees.')"
   ]
  },
  {
   "cell_type": "code",
   "execution_count": null,
   "id": "7c5f2e0e",
   "metadata": {},
   "outputs": [],
   "source": [
    "x_ = np.arange(col)\n",
    "plt.plot(x_, df_y_pred['TP'], label = 'tp_pred')\n",
    "plt.plot(x_,y_test['TP'][-col:], label = 'tp_test')\n",
    "plt.title('TP')\n",
    "plt.legend()\n",
    "plt.show()"
   ]
  }
 ],
 "metadata": {
  "kernelspec": {
   "display_name": "ml",
   "language": "python",
   "name": "python3"
  },
  "language_info": {
   "codemirror_mode": {
    "name": "ipython",
    "version": 3
   },
   "file_extension": ".py",
   "mimetype": "text/x-python",
   "name": "python",
   "nbconvert_exporter": "python",
   "pygments_lexer": "ipython3",
   "version": "3.8.13"
  },
  "vscode": {
   "interpreter": {
    "hash": "5dafb13e4b6f58b857a75d76bdb469c05d137ecb565f1b307667c72b2cf0b5b5"
   }
  }
 },
 "nbformat": 4,
 "nbformat_minor": 5
}
